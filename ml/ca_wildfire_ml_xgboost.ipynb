{
  "nbformat": 4,
  "nbformat_minor": 0,
  "metadata": {
    "colab": {
      "name": "ca-wildfire-ml-xgboost.ipynb",
      "provenance": [],
      "collapsed_sections": [],
      "authorship_tag": "ABX9TyPnTI3iR+tsXdwpJ0R2aCLL",
      "include_colab_link": true
    },
    "kernelspec": {
      "name": "python3",
      "display_name": "Python 3"
    },
    "language_info": {
      "name": "python"
    }
  },
  "cells": [
    {
      "cell_type": "markdown",
      "metadata": {
        "id": "view-in-github",
        "colab_type": "text"
      },
      "source": [
        "<a href=\"https://colab.research.google.com/github/prodramp/wildfire/blob/main/ml/ca_wildfire_ml_xgboost.ipynb\" target=\"_parent\"><img src=\"https://colab.research.google.com/assets/colab-badge.svg\" alt=\"Open In Colab\"/></a>"
      ]
    },
    {
      "cell_type": "code",
      "execution_count": 1,
      "metadata": {
        "id": "OUwkIT6JzKpw"
      },
      "outputs": [],
      "source": [
        "import xgboost as xbg\n",
        "from xgboost import XGBClassifier\n",
        "from sklearn.model_selection import cross_val_score\n",
        "from sklearn import metrics\n",
        "from sklearn.metrics import mean_squared_error\n",
        "import pandas as pd\n",
        "import plotly.express as px"
      ]
    },
    {
      "cell_type": "code",
      "source": [
        "train_source = \"https://github.com/prodramp/wildfire/raw/main/california-data/ca_fire_train.csv.zip\"\n",
        "valid_source = \"https://github.com/prodramp/wildfire/raw/main/california-data/ca_fire_valid.csv.zip\"\n",
        "test_source = \"https://github.com/prodramp/wildfire/raw/main/california-data/ca_fire_test.csv.zip\""
      ],
      "metadata": {
        "id": "DR4YXqoqzMZi"
      },
      "execution_count": 2,
      "outputs": []
    },
    {
      "cell_type": "code",
      "source": [
        "train = pd.read_csv(train_source)\n",
        "valid = pd.read_csv(valid_source)\n",
        "test = pd.read_csv(test_source)"
      ],
      "metadata": {
        "id": "SnKZ4hQjzOXG"
      },
      "execution_count": 3,
      "outputs": []
    },
    {
      "cell_type": "code",
      "source": [
        "features = [\n",
        "    'latitude', 'longitude', 'month',\n",
        "    'fire_cnt_before', 'fire_before',\n",
        "    'fire_cnt_last_year', 'fire_last_year',\n",
        "    'fire_cnt_last_year_same_month', 'fire_last_year_same_month'\n",
        "]"
      ],
      "metadata": {
        "id": "nHAslsLJzQIg"
      },
      "execution_count": 4,
      "outputs": []
    },
    {
      "cell_type": "code",
      "source": [
        "train.columns"
      ],
      "metadata": {
        "id": "Nbyyqy4d0p8m",
        "colab": {
          "base_uri": "https://localhost:8080/"
        },
        "outputId": "f33ecc23-aede-4ff3-8edb-8c87c2cfad33"
      },
      "execution_count": 5,
      "outputs": [
        {
          "output_type": "execute_result",
          "data": {
            "text/plain": [
              "Index(['latitude', 'longitude', 'year', 'month', 'fire_count', 'fire',\n",
              "       'fire_cnt_before', 'fire_before', 'fire_cnt_last_year',\n",
              "       'fire_last_year', 'fire_cnt_last_year_same_month',\n",
              "       'fire_last_year_same_month'],\n",
              "      dtype='object')"
            ]
          },
          "metadata": {},
          "execution_count": 5
        }
      ]
    },
    {
      "cell_type": "code",
      "source": [
        "xgbc = XGBClassifier(max_depth=10,colsample_bytree=0.8,learning_rate=0.02,n_estimators=100,nthread=-1)"
      ],
      "metadata": {
        "id": "40yfonshzWTP"
      },
      "execution_count": 6,
      "outputs": []
    },
    {
      "cell_type": "code",
      "source": [
        "# Option one - without validation dataset\n",
        "xgbc.fit(train[features],train.fire, verbose=True)"
      ],
      "metadata": {
        "id": "C33eJpVP-tor"
      },
      "execution_count": null,
      "outputs": []
    },
    {
      "cell_type": "code",
      "source": [
        "# Option two - With validation dataset\n",
        "eval_set = [(valid[features], valid.fire)]\n",
        "xgbc.fit(train[features],train.fire, eval_set=eval_set, verbose=True)"
      ],
      "metadata": {
        "id": "x9wbP9iX8k9n",
        "colab": {
          "base_uri": "https://localhost:8080/"
        },
        "outputId": "a79f337a-5b59-4343-c639-da64c6eb7c16"
      },
      "execution_count": 7,
      "outputs": [
        {
          "output_type": "stream",
          "name": "stdout",
          "text": [
            "[0]\tvalidation_0-error:0.071106\n",
            "[1]\tvalidation_0-error:0.066273\n",
            "[2]\tvalidation_0-error:0.066434\n",
            "[3]\tvalidation_0-error:0.066188\n",
            "[4]\tvalidation_0-error:0.066426\n",
            "[5]\tvalidation_0-error:0.066494\n",
            "[6]\tvalidation_0-error:0.066358\n",
            "[7]\tvalidation_0-error:0.065714\n",
            "[8]\tvalidation_0-error:0.06562\n",
            "[9]\tvalidation_0-error:0.065637\n",
            "[10]\tvalidation_0-error:0.065612\n",
            "[11]\tvalidation_0-error:0.066078\n",
            "[12]\tvalidation_0-error:0.06562\n",
            "[13]\tvalidation_0-error:0.065536\n",
            "[14]\tvalidation_0-error:0.06551\n",
            "[15]\tvalidation_0-error:0.065205\n",
            "[16]\tvalidation_0-error:0.065374\n",
            "[17]\tvalidation_0-error:0.065154\n",
            "[18]\tvalidation_0-error:0.064908\n",
            "[19]\tvalidation_0-error:0.065307\n",
            "[20]\tvalidation_0-error:0.065035\n",
            "[21]\tvalidation_0-error:0.065324\n",
            "[22]\tvalidation_0-error:0.065273\n",
            "[23]\tvalidation_0-error:0.065264\n",
            "[24]\tvalidation_0-error:0.06501\n",
            "[25]\tvalidation_0-error:0.065256\n",
            "[26]\tvalidation_0-error:0.065374\n",
            "[27]\tvalidation_0-error:0.0654\n",
            "[28]\tvalidation_0-error:0.065425\n",
            "[29]\tvalidation_0-error:0.065408\n",
            "[30]\tvalidation_0-error:0.065459\n",
            "[31]\tvalidation_0-error:0.065612\n",
            "[32]\tvalidation_0-error:0.065807\n",
            "[33]\tvalidation_0-error:0.065722\n",
            "[34]\tvalidation_0-error:0.065832\n",
            "[35]\tvalidation_0-error:0.065883\n",
            "[36]\tvalidation_0-error:0.065968\n",
            "[37]\tvalidation_0-error:0.065909\n",
            "[38]\tvalidation_0-error:0.06596\n",
            "[39]\tvalidation_0-error:0.065976\n",
            "[40]\tvalidation_0-error:0.066027\n",
            "[41]\tvalidation_0-error:0.065993\n",
            "[42]\tvalidation_0-error:0.065849\n",
            "[43]\tvalidation_0-error:0.065934\n",
            "[44]\tvalidation_0-error:0.065781\n",
            "[45]\tvalidation_0-error:0.065739\n",
            "[46]\tvalidation_0-error:0.065824\n",
            "[47]\tvalidation_0-error:0.065951\n",
            "[48]\tvalidation_0-error:0.065909\n",
            "[49]\tvalidation_0-error:0.065968\n",
            "[50]\tvalidation_0-error:0.065926\n",
            "[51]\tvalidation_0-error:0.0659\n",
            "[52]\tvalidation_0-error:0.06601\n",
            "[53]\tvalidation_0-error:0.065934\n",
            "[54]\tvalidation_0-error:0.066019\n",
            "[55]\tvalidation_0-error:0.066214\n",
            "[56]\tvalidation_0-error:0.066146\n",
            "[57]\tvalidation_0-error:0.066104\n",
            "[58]\tvalidation_0-error:0.066188\n",
            "[59]\tvalidation_0-error:0.066129\n",
            "[60]\tvalidation_0-error:0.066112\n",
            "[61]\tvalidation_0-error:0.066129\n",
            "[62]\tvalidation_0-error:0.066121\n",
            "[63]\tvalidation_0-error:0.066121\n",
            "[64]\tvalidation_0-error:0.066129\n",
            "[65]\tvalidation_0-error:0.066044\n",
            "[66]\tvalidation_0-error:0.066121\n",
            "[67]\tvalidation_0-error:0.066095\n",
            "[68]\tvalidation_0-error:0.066087\n",
            "[69]\tvalidation_0-error:0.066163\n",
            "[70]\tvalidation_0-error:0.066138\n",
            "[71]\tvalidation_0-error:0.066163\n",
            "[72]\tvalidation_0-error:0.066163\n",
            "[73]\tvalidation_0-error:0.066171\n",
            "[74]\tvalidation_0-error:0.066121\n",
            "[75]\tvalidation_0-error:0.066095\n",
            "[76]\tvalidation_0-error:0.065824\n",
            "[77]\tvalidation_0-error:0.065824\n",
            "[78]\tvalidation_0-error:0.06579\n",
            "[79]\tvalidation_0-error:0.065824\n",
            "[80]\tvalidation_0-error:0.065714\n",
            "[81]\tvalidation_0-error:0.065697\n",
            "[82]\tvalidation_0-error:0.065748\n",
            "[83]\tvalidation_0-error:0.065646\n",
            "[84]\tvalidation_0-error:0.065637\n",
            "[85]\tvalidation_0-error:0.065603\n",
            "[86]\tvalidation_0-error:0.06562\n",
            "[87]\tvalidation_0-error:0.065756\n",
            "[88]\tvalidation_0-error:0.065688\n",
            "[89]\tvalidation_0-error:0.065748\n",
            "[90]\tvalidation_0-error:0.065697\n",
            "[91]\tvalidation_0-error:0.065798\n",
            "[92]\tvalidation_0-error:0.065663\n",
            "[93]\tvalidation_0-error:0.065688\n",
            "[94]\tvalidation_0-error:0.06568\n",
            "[95]\tvalidation_0-error:0.065663\n",
            "[96]\tvalidation_0-error:0.065527\n",
            "[97]\tvalidation_0-error:0.065544\n",
            "[98]\tvalidation_0-error:0.065468\n",
            "[99]\tvalidation_0-error:0.065425\n"
          ]
        },
        {
          "output_type": "execute_result",
          "data": {
            "text/plain": [
              "XGBClassifier(colsample_bytree=0.8, learning_rate=0.02, max_depth=10,\n",
              "              nthread=-1)"
            ]
          },
          "metadata": {},
          "execution_count": 7
        }
      ]
    },
    {
      "cell_type": "code",
      "source": [
        "# Optional - Cross Validation Score \n",
        "scores = cross_val_score(xgbc, train[features],train.fire, cv=5)"
      ],
      "metadata": {
        "id": "13abqCKm2OKX"
      },
      "execution_count": null,
      "outputs": []
    },
    {
      "cell_type": "code",
      "source": [
        "print(\"Mean cross-validation score: %.5f\" % scores.mean())"
      ],
      "metadata": {
        "id": "e8eUSO6o2qHA"
      },
      "execution_count": null,
      "outputs": []
    },
    {
      "cell_type": "code",
      "source": [
        "test_predictions = xgbc.predict(test[features])"
      ],
      "metadata": {
        "id": "G_JqxskL3foo"
      },
      "execution_count": 8,
      "outputs": []
    },
    {
      "cell_type": "code",
      "source": [
        "test_auc = metrics.roc_auc_score(test.fire, test_predictions)\n",
        "test_auc"
      ],
      "metadata": {
        "id": "BzEXmbst59H8",
        "colab": {
          "base_uri": "https://localhost:8080/"
        },
        "outputId": "39e59317-3b74-4ad2-d962-e50b08703603"
      },
      "execution_count": 9,
      "outputs": [
        {
          "output_type": "execute_result",
          "data": {
            "text/plain": [
              "0.7801654363270638"
            ]
          },
          "metadata": {},
          "execution_count": 9
        }
      ]
    },
    {
      "cell_type": "code",
      "source": [
        "fpr, tpr, thr = metrics.roc_curve(test.fire, test_predictions)\n",
        "px.line(pd.DataFrame(dict(FPR=fpr, TPR=tpr)),\n",
        "        x='FPR', y='TPR', title='Wildfire Hotspot model performance for 2022')\n"
      ],
      "metadata": {
        "id": "uvosDXp67s--",
        "colab": {
          "base_uri": "https://localhost:8080/",
          "height": 542
        },
        "outputId": "cab11b1c-2a15-4e98-f7ed-425c1b5f7900"
      },
      "execution_count": 10,
      "outputs": [
        {
          "output_type": "display_data",
          "data": {
            "text/html": [
              "<html>\n",
              "<head><meta charset=\"utf-8\" /></head>\n",
              "<body>\n",
              "    <div>            <script src=\"https://cdnjs.cloudflare.com/ajax/libs/mathjax/2.7.5/MathJax.js?config=TeX-AMS-MML_SVG\"></script><script type=\"text/javascript\">if (window.MathJax) {MathJax.Hub.Config({SVG: {font: \"STIX-Web\"}});}</script>                <script type=\"text/javascript\">window.PlotlyConfig = {MathJaxConfig: 'local'};</script>\n",
              "        <script src=\"https://cdn.plot.ly/plotly-2.8.3.min.js\"></script>                <div id=\"ec29792f-3ae3-4fe8-a71d-a607a5694832\" class=\"plotly-graph-div\" style=\"height:525px; width:100%;\"></div>            <script type=\"text/javascript\">                                    window.PLOTLYENV=window.PLOTLYENV || {};                                    if (document.getElementById(\"ec29792f-3ae3-4fe8-a71d-a607a5694832\")) {                    Plotly.newPlot(                        \"ec29792f-3ae3-4fe8-a71d-a607a5694832\",                        [{\"hovertemplate\":\"FPR=%{x}<br>TPR=%{y}<extra></extra>\",\"legendgroup\":\"\",\"line\":{\"color\":\"#636efa\",\"dash\":\"solid\"},\"marker\":{\"symbol\":\"circle\"},\"mode\":\"lines\",\"name\":\"\",\"orientation\":\"v\",\"showlegend\":false,\"x\":[0.0,0.01346775434816069,1.0],\"xaxis\":\"x\",\"y\":[0.0,0.5737986270022883,1.0],\"yaxis\":\"y\",\"type\":\"scatter\"}],                        {\"template\":{\"data\":{\"bar\":[{\"error_x\":{\"color\":\"#2a3f5f\"},\"error_y\":{\"color\":\"#2a3f5f\"},\"marker\":{\"line\":{\"color\":\"#E5ECF6\",\"width\":0.5},\"pattern\":{\"fillmode\":\"overlay\",\"size\":10,\"solidity\":0.2}},\"type\":\"bar\"}],\"barpolar\":[{\"marker\":{\"line\":{\"color\":\"#E5ECF6\",\"width\":0.5},\"pattern\":{\"fillmode\":\"overlay\",\"size\":10,\"solidity\":0.2}},\"type\":\"barpolar\"}],\"carpet\":[{\"aaxis\":{\"endlinecolor\":\"#2a3f5f\",\"gridcolor\":\"white\",\"linecolor\":\"white\",\"minorgridcolor\":\"white\",\"startlinecolor\":\"#2a3f5f\"},\"baxis\":{\"endlinecolor\":\"#2a3f5f\",\"gridcolor\":\"white\",\"linecolor\":\"white\",\"minorgridcolor\":\"white\",\"startlinecolor\":\"#2a3f5f\"},\"type\":\"carpet\"}],\"choropleth\":[{\"colorbar\":{\"outlinewidth\":0,\"ticks\":\"\"},\"type\":\"choropleth\"}],\"contour\":[{\"colorbar\":{\"outlinewidth\":0,\"ticks\":\"\"},\"colorscale\":[[0.0,\"#0d0887\"],[0.1111111111111111,\"#46039f\"],[0.2222222222222222,\"#7201a8\"],[0.3333333333333333,\"#9c179e\"],[0.4444444444444444,\"#bd3786\"],[0.5555555555555556,\"#d8576b\"],[0.6666666666666666,\"#ed7953\"],[0.7777777777777778,\"#fb9f3a\"],[0.8888888888888888,\"#fdca26\"],[1.0,\"#f0f921\"]],\"type\":\"contour\"}],\"contourcarpet\":[{\"colorbar\":{\"outlinewidth\":0,\"ticks\":\"\"},\"type\":\"contourcarpet\"}],\"heatmap\":[{\"colorbar\":{\"outlinewidth\":0,\"ticks\":\"\"},\"colorscale\":[[0.0,\"#0d0887\"],[0.1111111111111111,\"#46039f\"],[0.2222222222222222,\"#7201a8\"],[0.3333333333333333,\"#9c179e\"],[0.4444444444444444,\"#bd3786\"],[0.5555555555555556,\"#d8576b\"],[0.6666666666666666,\"#ed7953\"],[0.7777777777777778,\"#fb9f3a\"],[0.8888888888888888,\"#fdca26\"],[1.0,\"#f0f921\"]],\"type\":\"heatmap\"}],\"heatmapgl\":[{\"colorbar\":{\"outlinewidth\":0,\"ticks\":\"\"},\"colorscale\":[[0.0,\"#0d0887\"],[0.1111111111111111,\"#46039f\"],[0.2222222222222222,\"#7201a8\"],[0.3333333333333333,\"#9c179e\"],[0.4444444444444444,\"#bd3786\"],[0.5555555555555556,\"#d8576b\"],[0.6666666666666666,\"#ed7953\"],[0.7777777777777778,\"#fb9f3a\"],[0.8888888888888888,\"#fdca26\"],[1.0,\"#f0f921\"]],\"type\":\"heatmapgl\"}],\"histogram\":[{\"marker\":{\"pattern\":{\"fillmode\":\"overlay\",\"size\":10,\"solidity\":0.2}},\"type\":\"histogram\"}],\"histogram2d\":[{\"colorbar\":{\"outlinewidth\":0,\"ticks\":\"\"},\"colorscale\":[[0.0,\"#0d0887\"],[0.1111111111111111,\"#46039f\"],[0.2222222222222222,\"#7201a8\"],[0.3333333333333333,\"#9c179e\"],[0.4444444444444444,\"#bd3786\"],[0.5555555555555556,\"#d8576b\"],[0.6666666666666666,\"#ed7953\"],[0.7777777777777778,\"#fb9f3a\"],[0.8888888888888888,\"#fdca26\"],[1.0,\"#f0f921\"]],\"type\":\"histogram2d\"}],\"histogram2dcontour\":[{\"colorbar\":{\"outlinewidth\":0,\"ticks\":\"\"},\"colorscale\":[[0.0,\"#0d0887\"],[0.1111111111111111,\"#46039f\"],[0.2222222222222222,\"#7201a8\"],[0.3333333333333333,\"#9c179e\"],[0.4444444444444444,\"#bd3786\"],[0.5555555555555556,\"#d8576b\"],[0.6666666666666666,\"#ed7953\"],[0.7777777777777778,\"#fb9f3a\"],[0.8888888888888888,\"#fdca26\"],[1.0,\"#f0f921\"]],\"type\":\"histogram2dcontour\"}],\"mesh3d\":[{\"colorbar\":{\"outlinewidth\":0,\"ticks\":\"\"},\"type\":\"mesh3d\"}],\"parcoords\":[{\"line\":{\"colorbar\":{\"outlinewidth\":0,\"ticks\":\"\"}},\"type\":\"parcoords\"}],\"pie\":[{\"automargin\":true,\"type\":\"pie\"}],\"scatter\":[{\"marker\":{\"colorbar\":{\"outlinewidth\":0,\"ticks\":\"\"}},\"type\":\"scatter\"}],\"scatter3d\":[{\"line\":{\"colorbar\":{\"outlinewidth\":0,\"ticks\":\"\"}},\"marker\":{\"colorbar\":{\"outlinewidth\":0,\"ticks\":\"\"}},\"type\":\"scatter3d\"}],\"scattercarpet\":[{\"marker\":{\"colorbar\":{\"outlinewidth\":0,\"ticks\":\"\"}},\"type\":\"scattercarpet\"}],\"scattergeo\":[{\"marker\":{\"colorbar\":{\"outlinewidth\":0,\"ticks\":\"\"}},\"type\":\"scattergeo\"}],\"scattergl\":[{\"marker\":{\"colorbar\":{\"outlinewidth\":0,\"ticks\":\"\"}},\"type\":\"scattergl\"}],\"scattermapbox\":[{\"marker\":{\"colorbar\":{\"outlinewidth\":0,\"ticks\":\"\"}},\"type\":\"scattermapbox\"}],\"scatterpolar\":[{\"marker\":{\"colorbar\":{\"outlinewidth\":0,\"ticks\":\"\"}},\"type\":\"scatterpolar\"}],\"scatterpolargl\":[{\"marker\":{\"colorbar\":{\"outlinewidth\":0,\"ticks\":\"\"}},\"type\":\"scatterpolargl\"}],\"scatterternary\":[{\"marker\":{\"colorbar\":{\"outlinewidth\":0,\"ticks\":\"\"}},\"type\":\"scatterternary\"}],\"surface\":[{\"colorbar\":{\"outlinewidth\":0,\"ticks\":\"\"},\"colorscale\":[[0.0,\"#0d0887\"],[0.1111111111111111,\"#46039f\"],[0.2222222222222222,\"#7201a8\"],[0.3333333333333333,\"#9c179e\"],[0.4444444444444444,\"#bd3786\"],[0.5555555555555556,\"#d8576b\"],[0.6666666666666666,\"#ed7953\"],[0.7777777777777778,\"#fb9f3a\"],[0.8888888888888888,\"#fdca26\"],[1.0,\"#f0f921\"]],\"type\":\"surface\"}],\"table\":[{\"cells\":{\"fill\":{\"color\":\"#EBF0F8\"},\"line\":{\"color\":\"white\"}},\"header\":{\"fill\":{\"color\":\"#C8D4E3\"},\"line\":{\"color\":\"white\"}},\"type\":\"table\"}]},\"layout\":{\"annotationdefaults\":{\"arrowcolor\":\"#2a3f5f\",\"arrowhead\":0,\"arrowwidth\":1},\"autotypenumbers\":\"strict\",\"coloraxis\":{\"colorbar\":{\"outlinewidth\":0,\"ticks\":\"\"}},\"colorscale\":{\"diverging\":[[0,\"#8e0152\"],[0.1,\"#c51b7d\"],[0.2,\"#de77ae\"],[0.3,\"#f1b6da\"],[0.4,\"#fde0ef\"],[0.5,\"#f7f7f7\"],[0.6,\"#e6f5d0\"],[0.7,\"#b8e186\"],[0.8,\"#7fbc41\"],[0.9,\"#4d9221\"],[1,\"#276419\"]],\"sequential\":[[0.0,\"#0d0887\"],[0.1111111111111111,\"#46039f\"],[0.2222222222222222,\"#7201a8\"],[0.3333333333333333,\"#9c179e\"],[0.4444444444444444,\"#bd3786\"],[0.5555555555555556,\"#d8576b\"],[0.6666666666666666,\"#ed7953\"],[0.7777777777777778,\"#fb9f3a\"],[0.8888888888888888,\"#fdca26\"],[1.0,\"#f0f921\"]],\"sequentialminus\":[[0.0,\"#0d0887\"],[0.1111111111111111,\"#46039f\"],[0.2222222222222222,\"#7201a8\"],[0.3333333333333333,\"#9c179e\"],[0.4444444444444444,\"#bd3786\"],[0.5555555555555556,\"#d8576b\"],[0.6666666666666666,\"#ed7953\"],[0.7777777777777778,\"#fb9f3a\"],[0.8888888888888888,\"#fdca26\"],[1.0,\"#f0f921\"]]},\"colorway\":[\"#636efa\",\"#EF553B\",\"#00cc96\",\"#ab63fa\",\"#FFA15A\",\"#19d3f3\",\"#FF6692\",\"#B6E880\",\"#FF97FF\",\"#FECB52\"],\"font\":{\"color\":\"#2a3f5f\"},\"geo\":{\"bgcolor\":\"white\",\"lakecolor\":\"white\",\"landcolor\":\"#E5ECF6\",\"showlakes\":true,\"showland\":true,\"subunitcolor\":\"white\"},\"hoverlabel\":{\"align\":\"left\"},\"hovermode\":\"closest\",\"mapbox\":{\"style\":\"light\"},\"paper_bgcolor\":\"white\",\"plot_bgcolor\":\"#E5ECF6\",\"polar\":{\"angularaxis\":{\"gridcolor\":\"white\",\"linecolor\":\"white\",\"ticks\":\"\"},\"bgcolor\":\"#E5ECF6\",\"radialaxis\":{\"gridcolor\":\"white\",\"linecolor\":\"white\",\"ticks\":\"\"}},\"scene\":{\"xaxis\":{\"backgroundcolor\":\"#E5ECF6\",\"gridcolor\":\"white\",\"gridwidth\":2,\"linecolor\":\"white\",\"showbackground\":true,\"ticks\":\"\",\"zerolinecolor\":\"white\"},\"yaxis\":{\"backgroundcolor\":\"#E5ECF6\",\"gridcolor\":\"white\",\"gridwidth\":2,\"linecolor\":\"white\",\"showbackground\":true,\"ticks\":\"\",\"zerolinecolor\":\"white\"},\"zaxis\":{\"backgroundcolor\":\"#E5ECF6\",\"gridcolor\":\"white\",\"gridwidth\":2,\"linecolor\":\"white\",\"showbackground\":true,\"ticks\":\"\",\"zerolinecolor\":\"white\"}},\"shapedefaults\":{\"line\":{\"color\":\"#2a3f5f\"}},\"ternary\":{\"aaxis\":{\"gridcolor\":\"white\",\"linecolor\":\"white\",\"ticks\":\"\"},\"baxis\":{\"gridcolor\":\"white\",\"linecolor\":\"white\",\"ticks\":\"\"},\"bgcolor\":\"#E5ECF6\",\"caxis\":{\"gridcolor\":\"white\",\"linecolor\":\"white\",\"ticks\":\"\"}},\"title\":{\"x\":0.05},\"xaxis\":{\"automargin\":true,\"gridcolor\":\"white\",\"linecolor\":\"white\",\"ticks\":\"\",\"title\":{\"standoff\":15},\"zerolinecolor\":\"white\",\"zerolinewidth\":2},\"yaxis\":{\"automargin\":true,\"gridcolor\":\"white\",\"linecolor\":\"white\",\"ticks\":\"\",\"title\":{\"standoff\":15},\"zerolinecolor\":\"white\",\"zerolinewidth\":2}}},\"xaxis\":{\"anchor\":\"y\",\"domain\":[0.0,1.0],\"title\":{\"text\":\"FPR\"}},\"yaxis\":{\"anchor\":\"x\",\"domain\":[0.0,1.0],\"title\":{\"text\":\"TPR\"}},\"legend\":{\"tracegroupgap\":0},\"title\":{\"text\":\"Wildfire Hotspot model performance for 2022\"}},                        {\"responsive\": true}                    ).then(function(){\n",
              "                            \n",
              "var gd = document.getElementById('ec29792f-3ae3-4fe8-a71d-a607a5694832');\n",
              "var x = new MutationObserver(function (mutations, observer) {{\n",
              "        var display = window.getComputedStyle(gd).display;\n",
              "        if (!display || display === 'none') {{\n",
              "            console.log([gd, 'removed!']);\n",
              "            Plotly.purge(gd);\n",
              "            observer.disconnect();\n",
              "        }}\n",
              "}});\n",
              "\n",
              "// Listen for the removal of the full notebook cells\n",
              "var notebookContainer = gd.closest('#notebook-container');\n",
              "if (notebookContainer) {{\n",
              "    x.observe(notebookContainer, {childList: true});\n",
              "}}\n",
              "\n",
              "// Listen for the clearing of the current output cell\n",
              "var outputEl = gd.closest('.output');\n",
              "if (outputEl) {{\n",
              "    x.observe(outputEl, {childList: true});\n",
              "}}\n",
              "\n",
              "                        })                };                            </script>        </div>\n",
              "</body>\n",
              "</html>"
            ]
          },
          "metadata": {}
        }
      ]
    },
    {
      "cell_type": "code",
      "source": [
        ""
      ],
      "metadata": {
        "id": "o0hwNUJE7ylY"
      },
      "execution_count": null,
      "outputs": []
    }
  ]
}