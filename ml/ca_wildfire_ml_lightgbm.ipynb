{
  "nbformat": 4,
  "nbformat_minor": 0,
  "metadata": {
    "colab": {
      "name": "ca-wildfire-ml-lightgbm.ipynb",
      "provenance": [],
      "collapsed_sections": [],
      "authorship_tag": "ABX9TyNWHHF9pnG3djhoZpNoIfl2",
      "include_colab_link": true
    },
    "kernelspec": {
      "name": "python3",
      "display_name": "Python 3"
    },
    "language_info": {
      "name": "python"
    }
  },
  "cells": [
    {
      "cell_type": "markdown",
      "metadata": {
        "id": "view-in-github",
        "colab_type": "text"
      },
      "source": [
        "<a href=\"https://colab.research.google.com/github/prodramp/wildfire/blob/main/ml/ca_wildfire_ml_lightgbm.ipynb\" target=\"_parent\"><img src=\"https://colab.research.google.com/assets/colab-badge.svg\" alt=\"Open In Colab\"/></a>"
      ]
    },
    {
      "cell_type": "code",
      "execution_count": null,
      "metadata": {
        "id": "z9rvNP5GKtYE"
      },
      "outputs": [],
      "source": [
        ""
      ]
    },
    {
      "cell_type": "code",
      "source": [
        "import lightgbm as lgb\n",
        "from sklearn import metrics\n",
        "import pandas as pd\n",
        "import plotly.express as px"
      ],
      "metadata": {
        "id": "u7yqFckdKuYz"
      },
      "execution_count": 3,
      "outputs": []
    },
    {
      "cell_type": "code",
      "source": [
        "# Use the cell below to upload your own dataset\n",
        "from google.colab import files\n",
        "uploaded = files.upload()"
      ],
      "metadata": {
        "id": "v3p_r4OLK5XX"
      },
      "execution_count": null,
      "outputs": []
    },
    {
      "cell_type": "code",
      "source": [
        "!ls"
      ],
      "metadata": {
        "colab": {
          "base_uri": "https://localhost:8080/"
        },
        "id": "A1zCWjtZLVGz",
        "outputId": "aac35f67-72b8-4b78-f72a-94bc3a01623d"
      },
      "execution_count": 2,
      "outputs": [
        {
          "output_type": "stream",
          "name": "stdout",
          "text": [
            "sample_data\n"
          ]
        }
      ]
    },
    {
      "cell_type": "code",
      "source": [
        "train_source = \"https://github.com/prodramp/wildfire/raw/main/california-data/ca_fire_train.csv.zip\"\n",
        "valid_source = \"https://github.com/prodramp/wildfire/raw/main/california-data/ca_fire_valid.csv.zip\"\n",
        "test_source = \"https://github.com/prodramp/wildfire/raw/main/california-data/ca_fire_test.csv.zip\""
      ],
      "metadata": {
        "id": "UsFmeK80Vd1o"
      },
      "execution_count": 9,
      "outputs": []
    },
    {
      "cell_type": "code",
      "source": [
        "train = pd.read_csv(train_source)\n",
        "valid = pd.read_csv(valid_source)\n",
        "test = pd.read_csv(test_source)"
      ],
      "metadata": {
        "id": "Eshpol8MKztR"
      },
      "execution_count": 10,
      "outputs": []
    },
    {
      "cell_type": "code",
      "source": [
        ""
      ],
      "metadata": {
        "id": "yyNSF6t2VhnB"
      },
      "execution_count": 7,
      "outputs": []
    },
    {
      "cell_type": "code",
      "source": [
        "train.shape"
      ],
      "metadata": {
        "colab": {
          "base_uri": "https://localhost:8080/"
        },
        "id": "eri--KGzK3ah",
        "outputId": "8cc4d522-fc73-4ffa-bf50-70109be1dfb8"
      },
      "execution_count": 11,
      "outputs": [
        {
          "output_type": "execute_result",
          "data": {
            "text/plain": [
              "(1071252, 12)"
            ]
          },
          "metadata": {},
          "execution_count": 11
        }
      ]
    },
    {
      "cell_type": "code",
      "source": [
        "valid.shape"
      ],
      "metadata": {
        "colab": {
          "base_uri": "https://localhost:8080/"
        },
        "id": "3pzAhhVhN5Kk",
        "outputId": "795ce99d-c1fc-471d-ac4d-278c3aa0a2f0"
      },
      "execution_count": 12,
      "outputs": [
        {
          "output_type": "execute_result",
          "data": {
            "text/plain": [
              "(117936, 12)"
            ]
          },
          "metadata": {},
          "execution_count": 12
        }
      ]
    },
    {
      "cell_type": "code",
      "source": [
        "test.shape"
      ],
      "metadata": {
        "colab": {
          "base_uri": "https://localhost:8080/"
        },
        "id": "ecLwlGsNN61T",
        "outputId": "ae2dc587-e607-4789-9dda-badcd861502d"
      },
      "execution_count": 13,
      "outputs": [
        {
          "output_type": "execute_result",
          "data": {
            "text/plain": [
              "(14742, 12)"
            ]
          },
          "metadata": {},
          "execution_count": 13
        }
      ]
    },
    {
      "cell_type": "code",
      "source": [
        "train.groupby('year').count()"
      ],
      "metadata": {
        "colab": {
          "base_uri": "https://localhost:8080/",
          "height": 676
        },
        "id": "0fSfa4lJN8L3",
        "outputId": "494dc123-96fe-43e7-a7fd-ff77ead9f375"
      },
      "execution_count": 14,
      "outputs": [
        {
          "output_type": "execute_result",
          "data": {
            "text/plain": [
              "      latitude  longitude  month  fire_count   fire  fire_cnt_before  \\\n",
              "year                                                                   \n",
              "2001      9828       9828   9828        9828   9828             9828   \n",
              "2002     58968      58968  58968       58968  58968            58968   \n",
              "2003     58968      58968  58968       58968  58968            58968   \n",
              "2004     58968      58968  58968       58968  58968            58968   \n",
              "2005     58968      58968  58968       58968  58968            58968   \n",
              "2006     58968      58968  58968       58968  58968            58968   \n",
              "2007     58968      58968  58968       58968  58968            58968   \n",
              "2008     58968      58968  58968       58968  58968            58968   \n",
              "2009     58968      58968  58968       58968  58968            58968   \n",
              "2010     58968      58968  58968       58968  58968            58968   \n",
              "2011     58968      58968  58968       58968  58968            58968   \n",
              "2012     58968      58968  58968       58968  58968            58968   \n",
              "2013     58968      58968  58968       58968  58968            58968   \n",
              "2014     58968      58968  58968       58968  58968            58968   \n",
              "2015     58968      58968  58968       58968  58968            58968   \n",
              "2016     58968      58968  58968       58968  58968            58968   \n",
              "2017     58968      58968  58968       58968  58968            58968   \n",
              "2018     58968      58968  58968       58968  58968            58968   \n",
              "2019     58968      58968  58968       58968  58968            58968   \n",
              "\n",
              "      fire_before  fire_cnt_last_year  fire_last_year  \\\n",
              "year                                                    \n",
              "2001         9828                9828            9828   \n",
              "2002        58968               58968           58968   \n",
              "2003        58968               58968           58968   \n",
              "2004        58968               58968           58968   \n",
              "2005        58968               58968           58968   \n",
              "2006        58968               58968           58968   \n",
              "2007        58968               58968           58968   \n",
              "2008        58968               58968           58968   \n",
              "2009        58968               58968           58968   \n",
              "2010        58968               58968           58968   \n",
              "2011        58968               58968           58968   \n",
              "2012        58968               58968           58968   \n",
              "2013        58968               58968           58968   \n",
              "2014        58968               58968           58968   \n",
              "2015        58968               58968           58968   \n",
              "2016        58968               58968           58968   \n",
              "2017        58968               58968           58968   \n",
              "2018        58968               58968           58968   \n",
              "2019        58968               58968           58968   \n",
              "\n",
              "      fire_cnt_last_year_same_month  fire_last_year_same_month  \n",
              "year                                                            \n",
              "2001                           9828                       9828  \n",
              "2002                          58968                      58968  \n",
              "2003                          58968                      58968  \n",
              "2004                          58968                      58968  \n",
              "2005                          58968                      58968  \n",
              "2006                          58968                      58968  \n",
              "2007                          58968                      58968  \n",
              "2008                          58968                      58968  \n",
              "2009                          58968                      58968  \n",
              "2010                          58968                      58968  \n",
              "2011                          58968                      58968  \n",
              "2012                          58968                      58968  \n",
              "2013                          58968                      58968  \n",
              "2014                          58968                      58968  \n",
              "2015                          58968                      58968  \n",
              "2016                          58968                      58968  \n",
              "2017                          58968                      58968  \n",
              "2018                          58968                      58968  \n",
              "2019                          58968                      58968  "
            ],
            "text/html": [
              "\n",
              "  <div id=\"df-ec04aae9-e5d1-493b-a3b8-f0e1b261b4b0\">\n",
              "    <div class=\"colab-df-container\">\n",
              "      <div>\n",
              "<style scoped>\n",
              "    .dataframe tbody tr th:only-of-type {\n",
              "        vertical-align: middle;\n",
              "    }\n",
              "\n",
              "    .dataframe tbody tr th {\n",
              "        vertical-align: top;\n",
              "    }\n",
              "\n",
              "    .dataframe thead th {\n",
              "        text-align: right;\n",
              "    }\n",
              "</style>\n",
              "<table border=\"1\" class=\"dataframe\">\n",
              "  <thead>\n",
              "    <tr style=\"text-align: right;\">\n",
              "      <th></th>\n",
              "      <th>latitude</th>\n",
              "      <th>longitude</th>\n",
              "      <th>month</th>\n",
              "      <th>fire_count</th>\n",
              "      <th>fire</th>\n",
              "      <th>fire_cnt_before</th>\n",
              "      <th>fire_before</th>\n",
              "      <th>fire_cnt_last_year</th>\n",
              "      <th>fire_last_year</th>\n",
              "      <th>fire_cnt_last_year_same_month</th>\n",
              "      <th>fire_last_year_same_month</th>\n",
              "    </tr>\n",
              "    <tr>\n",
              "      <th>year</th>\n",
              "      <th></th>\n",
              "      <th></th>\n",
              "      <th></th>\n",
              "      <th></th>\n",
              "      <th></th>\n",
              "      <th></th>\n",
              "      <th></th>\n",
              "      <th></th>\n",
              "      <th></th>\n",
              "      <th></th>\n",
              "      <th></th>\n",
              "    </tr>\n",
              "  </thead>\n",
              "  <tbody>\n",
              "    <tr>\n",
              "      <th>2001</th>\n",
              "      <td>9828</td>\n",
              "      <td>9828</td>\n",
              "      <td>9828</td>\n",
              "      <td>9828</td>\n",
              "      <td>9828</td>\n",
              "      <td>9828</td>\n",
              "      <td>9828</td>\n",
              "      <td>9828</td>\n",
              "      <td>9828</td>\n",
              "      <td>9828</td>\n",
              "      <td>9828</td>\n",
              "    </tr>\n",
              "    <tr>\n",
              "      <th>2002</th>\n",
              "      <td>58968</td>\n",
              "      <td>58968</td>\n",
              "      <td>58968</td>\n",
              "      <td>58968</td>\n",
              "      <td>58968</td>\n",
              "      <td>58968</td>\n",
              "      <td>58968</td>\n",
              "      <td>58968</td>\n",
              "      <td>58968</td>\n",
              "      <td>58968</td>\n",
              "      <td>58968</td>\n",
              "    </tr>\n",
              "    <tr>\n",
              "      <th>2003</th>\n",
              "      <td>58968</td>\n",
              "      <td>58968</td>\n",
              "      <td>58968</td>\n",
              "      <td>58968</td>\n",
              "      <td>58968</td>\n",
              "      <td>58968</td>\n",
              "      <td>58968</td>\n",
              "      <td>58968</td>\n",
              "      <td>58968</td>\n",
              "      <td>58968</td>\n",
              "      <td>58968</td>\n",
              "    </tr>\n",
              "    <tr>\n",
              "      <th>2004</th>\n",
              "      <td>58968</td>\n",
              "      <td>58968</td>\n",
              "      <td>58968</td>\n",
              "      <td>58968</td>\n",
              "      <td>58968</td>\n",
              "      <td>58968</td>\n",
              "      <td>58968</td>\n",
              "      <td>58968</td>\n",
              "      <td>58968</td>\n",
              "      <td>58968</td>\n",
              "      <td>58968</td>\n",
              "    </tr>\n",
              "    <tr>\n",
              "      <th>2005</th>\n",
              "      <td>58968</td>\n",
              "      <td>58968</td>\n",
              "      <td>58968</td>\n",
              "      <td>58968</td>\n",
              "      <td>58968</td>\n",
              "      <td>58968</td>\n",
              "      <td>58968</td>\n",
              "      <td>58968</td>\n",
              "      <td>58968</td>\n",
              "      <td>58968</td>\n",
              "      <td>58968</td>\n",
              "    </tr>\n",
              "    <tr>\n",
              "      <th>2006</th>\n",
              "      <td>58968</td>\n",
              "      <td>58968</td>\n",
              "      <td>58968</td>\n",
              "      <td>58968</td>\n",
              "      <td>58968</td>\n",
              "      <td>58968</td>\n",
              "      <td>58968</td>\n",
              "      <td>58968</td>\n",
              "      <td>58968</td>\n",
              "      <td>58968</td>\n",
              "      <td>58968</td>\n",
              "    </tr>\n",
              "    <tr>\n",
              "      <th>2007</th>\n",
              "      <td>58968</td>\n",
              "      <td>58968</td>\n",
              "      <td>58968</td>\n",
              "      <td>58968</td>\n",
              "      <td>58968</td>\n",
              "      <td>58968</td>\n",
              "      <td>58968</td>\n",
              "      <td>58968</td>\n",
              "      <td>58968</td>\n",
              "      <td>58968</td>\n",
              "      <td>58968</td>\n",
              "    </tr>\n",
              "    <tr>\n",
              "      <th>2008</th>\n",
              "      <td>58968</td>\n",
              "      <td>58968</td>\n",
              "      <td>58968</td>\n",
              "      <td>58968</td>\n",
              "      <td>58968</td>\n",
              "      <td>58968</td>\n",
              "      <td>58968</td>\n",
              "      <td>58968</td>\n",
              "      <td>58968</td>\n",
              "      <td>58968</td>\n",
              "      <td>58968</td>\n",
              "    </tr>\n",
              "    <tr>\n",
              "      <th>2009</th>\n",
              "      <td>58968</td>\n",
              "      <td>58968</td>\n",
              "      <td>58968</td>\n",
              "      <td>58968</td>\n",
              "      <td>58968</td>\n",
              "      <td>58968</td>\n",
              "      <td>58968</td>\n",
              "      <td>58968</td>\n",
              "      <td>58968</td>\n",
              "      <td>58968</td>\n",
              "      <td>58968</td>\n",
              "    </tr>\n",
              "    <tr>\n",
              "      <th>2010</th>\n",
              "      <td>58968</td>\n",
              "      <td>58968</td>\n",
              "      <td>58968</td>\n",
              "      <td>58968</td>\n",
              "      <td>58968</td>\n",
              "      <td>58968</td>\n",
              "      <td>58968</td>\n",
              "      <td>58968</td>\n",
              "      <td>58968</td>\n",
              "      <td>58968</td>\n",
              "      <td>58968</td>\n",
              "    </tr>\n",
              "    <tr>\n",
              "      <th>2011</th>\n",
              "      <td>58968</td>\n",
              "      <td>58968</td>\n",
              "      <td>58968</td>\n",
              "      <td>58968</td>\n",
              "      <td>58968</td>\n",
              "      <td>58968</td>\n",
              "      <td>58968</td>\n",
              "      <td>58968</td>\n",
              "      <td>58968</td>\n",
              "      <td>58968</td>\n",
              "      <td>58968</td>\n",
              "    </tr>\n",
              "    <tr>\n",
              "      <th>2012</th>\n",
              "      <td>58968</td>\n",
              "      <td>58968</td>\n",
              "      <td>58968</td>\n",
              "      <td>58968</td>\n",
              "      <td>58968</td>\n",
              "      <td>58968</td>\n",
              "      <td>58968</td>\n",
              "      <td>58968</td>\n",
              "      <td>58968</td>\n",
              "      <td>58968</td>\n",
              "      <td>58968</td>\n",
              "    </tr>\n",
              "    <tr>\n",
              "      <th>2013</th>\n",
              "      <td>58968</td>\n",
              "      <td>58968</td>\n",
              "      <td>58968</td>\n",
              "      <td>58968</td>\n",
              "      <td>58968</td>\n",
              "      <td>58968</td>\n",
              "      <td>58968</td>\n",
              "      <td>58968</td>\n",
              "      <td>58968</td>\n",
              "      <td>58968</td>\n",
              "      <td>58968</td>\n",
              "    </tr>\n",
              "    <tr>\n",
              "      <th>2014</th>\n",
              "      <td>58968</td>\n",
              "      <td>58968</td>\n",
              "      <td>58968</td>\n",
              "      <td>58968</td>\n",
              "      <td>58968</td>\n",
              "      <td>58968</td>\n",
              "      <td>58968</td>\n",
              "      <td>58968</td>\n",
              "      <td>58968</td>\n",
              "      <td>58968</td>\n",
              "      <td>58968</td>\n",
              "    </tr>\n",
              "    <tr>\n",
              "      <th>2015</th>\n",
              "      <td>58968</td>\n",
              "      <td>58968</td>\n",
              "      <td>58968</td>\n",
              "      <td>58968</td>\n",
              "      <td>58968</td>\n",
              "      <td>58968</td>\n",
              "      <td>58968</td>\n",
              "      <td>58968</td>\n",
              "      <td>58968</td>\n",
              "      <td>58968</td>\n",
              "      <td>58968</td>\n",
              "    </tr>\n",
              "    <tr>\n",
              "      <th>2016</th>\n",
              "      <td>58968</td>\n",
              "      <td>58968</td>\n",
              "      <td>58968</td>\n",
              "      <td>58968</td>\n",
              "      <td>58968</td>\n",
              "      <td>58968</td>\n",
              "      <td>58968</td>\n",
              "      <td>58968</td>\n",
              "      <td>58968</td>\n",
              "      <td>58968</td>\n",
              "      <td>58968</td>\n",
              "    </tr>\n",
              "    <tr>\n",
              "      <th>2017</th>\n",
              "      <td>58968</td>\n",
              "      <td>58968</td>\n",
              "      <td>58968</td>\n",
              "      <td>58968</td>\n",
              "      <td>58968</td>\n",
              "      <td>58968</td>\n",
              "      <td>58968</td>\n",
              "      <td>58968</td>\n",
              "      <td>58968</td>\n",
              "      <td>58968</td>\n",
              "      <td>58968</td>\n",
              "    </tr>\n",
              "    <tr>\n",
              "      <th>2018</th>\n",
              "      <td>58968</td>\n",
              "      <td>58968</td>\n",
              "      <td>58968</td>\n",
              "      <td>58968</td>\n",
              "      <td>58968</td>\n",
              "      <td>58968</td>\n",
              "      <td>58968</td>\n",
              "      <td>58968</td>\n",
              "      <td>58968</td>\n",
              "      <td>58968</td>\n",
              "      <td>58968</td>\n",
              "    </tr>\n",
              "    <tr>\n",
              "      <th>2019</th>\n",
              "      <td>58968</td>\n",
              "      <td>58968</td>\n",
              "      <td>58968</td>\n",
              "      <td>58968</td>\n",
              "      <td>58968</td>\n",
              "      <td>58968</td>\n",
              "      <td>58968</td>\n",
              "      <td>58968</td>\n",
              "      <td>58968</td>\n",
              "      <td>58968</td>\n",
              "      <td>58968</td>\n",
              "    </tr>\n",
              "  </tbody>\n",
              "</table>\n",
              "</div>\n",
              "      <button class=\"colab-df-convert\" onclick=\"convertToInteractive('df-ec04aae9-e5d1-493b-a3b8-f0e1b261b4b0')\"\n",
              "              title=\"Convert this dataframe to an interactive table.\"\n",
              "              style=\"display:none;\">\n",
              "        \n",
              "  <svg xmlns=\"http://www.w3.org/2000/svg\" height=\"24px\"viewBox=\"0 0 24 24\"\n",
              "       width=\"24px\">\n",
              "    <path d=\"M0 0h24v24H0V0z\" fill=\"none\"/>\n",
              "    <path d=\"M18.56 5.44l.94 2.06.94-2.06 2.06-.94-2.06-.94-.94-2.06-.94 2.06-2.06.94zm-11 1L8.5 8.5l.94-2.06 2.06-.94-2.06-.94L8.5 2.5l-.94 2.06-2.06.94zm10 10l.94 2.06.94-2.06 2.06-.94-2.06-.94-.94-2.06-.94 2.06-2.06.94z\"/><path d=\"M17.41 7.96l-1.37-1.37c-.4-.4-.92-.59-1.43-.59-.52 0-1.04.2-1.43.59L10.3 9.45l-7.72 7.72c-.78.78-.78 2.05 0 2.83L4 21.41c.39.39.9.59 1.41.59.51 0 1.02-.2 1.41-.59l7.78-7.78 2.81-2.81c.8-.78.8-2.07 0-2.86zM5.41 20L4 18.59l7.72-7.72 1.47 1.35L5.41 20z\"/>\n",
              "  </svg>\n",
              "      </button>\n",
              "      \n",
              "  <style>\n",
              "    .colab-df-container {\n",
              "      display:flex;\n",
              "      flex-wrap:wrap;\n",
              "      gap: 12px;\n",
              "    }\n",
              "\n",
              "    .colab-df-convert {\n",
              "      background-color: #E8F0FE;\n",
              "      border: none;\n",
              "      border-radius: 50%;\n",
              "      cursor: pointer;\n",
              "      display: none;\n",
              "      fill: #1967D2;\n",
              "      height: 32px;\n",
              "      padding: 0 0 0 0;\n",
              "      width: 32px;\n",
              "    }\n",
              "\n",
              "    .colab-df-convert:hover {\n",
              "      background-color: #E2EBFA;\n",
              "      box-shadow: 0px 1px 2px rgba(60, 64, 67, 0.3), 0px 1px 3px 1px rgba(60, 64, 67, 0.15);\n",
              "      fill: #174EA6;\n",
              "    }\n",
              "\n",
              "    [theme=dark] .colab-df-convert {\n",
              "      background-color: #3B4455;\n",
              "      fill: #D2E3FC;\n",
              "    }\n",
              "\n",
              "    [theme=dark] .colab-df-convert:hover {\n",
              "      background-color: #434B5C;\n",
              "      box-shadow: 0px 1px 3px 1px rgba(0, 0, 0, 0.15);\n",
              "      filter: drop-shadow(0px 1px 2px rgba(0, 0, 0, 0.3));\n",
              "      fill: #FFFFFF;\n",
              "    }\n",
              "  </style>\n",
              "\n",
              "      <script>\n",
              "        const buttonEl =\n",
              "          document.querySelector('#df-ec04aae9-e5d1-493b-a3b8-f0e1b261b4b0 button.colab-df-convert');\n",
              "        buttonEl.style.display =\n",
              "          google.colab.kernel.accessAllowed ? 'block' : 'none';\n",
              "\n",
              "        async function convertToInteractive(key) {\n",
              "          const element = document.querySelector('#df-ec04aae9-e5d1-493b-a3b8-f0e1b261b4b0');\n",
              "          const dataTable =\n",
              "            await google.colab.kernel.invokeFunction('convertToInteractive',\n",
              "                                                     [key], {});\n",
              "          if (!dataTable) return;\n",
              "\n",
              "          const docLinkHtml = 'Like what you see? Visit the ' +\n",
              "            '<a target=\"_blank\" href=https://colab.research.google.com/notebooks/data_table.ipynb>data table notebook</a>'\n",
              "            + ' to learn more about interactive tables.';\n",
              "          element.innerHTML = '';\n",
              "          dataTable['output_type'] = 'display_data';\n",
              "          await google.colab.output.renderOutput(dataTable, element);\n",
              "          const docLink = document.createElement('div');\n",
              "          docLink.innerHTML = docLinkHtml;\n",
              "          element.appendChild(docLink);\n",
              "        }\n",
              "      </script>\n",
              "    </div>\n",
              "  </div>\n",
              "  "
            ]
          },
          "metadata": {},
          "execution_count": 14
        }
      ]
    },
    {
      "cell_type": "code",
      "source": [
        "valid.groupby('year').count()"
      ],
      "metadata": {
        "colab": {
          "base_uri": "https://localhost:8080/",
          "height": 143
        },
        "id": "hcMB2sEVN-iJ",
        "outputId": "55e3bd29-17b0-4599-b006-bf844a483990"
      },
      "execution_count": 15,
      "outputs": [
        {
          "output_type": "execute_result",
          "data": {
            "text/plain": [
              "      latitude  longitude  month  fire_count   fire  fire_cnt_before  \\\n",
              "year                                                                   \n",
              "2020     58968      58968  58968       58968  58968            58968   \n",
              "2021     58968      58968  58968       58968  58968            58968   \n",
              "\n",
              "      fire_before  fire_cnt_last_year  fire_last_year  \\\n",
              "year                                                    \n",
              "2020        58968               58968           58968   \n",
              "2021        58968               58968           58968   \n",
              "\n",
              "      fire_cnt_last_year_same_month  fire_last_year_same_month  \n",
              "year                                                            \n",
              "2020                          58968                      58968  \n",
              "2021                          58968                      58968  "
            ],
            "text/html": [
              "\n",
              "  <div id=\"df-59ea40c1-a51f-4d7c-910f-9b0dc21b22b3\">\n",
              "    <div class=\"colab-df-container\">\n",
              "      <div>\n",
              "<style scoped>\n",
              "    .dataframe tbody tr th:only-of-type {\n",
              "        vertical-align: middle;\n",
              "    }\n",
              "\n",
              "    .dataframe tbody tr th {\n",
              "        vertical-align: top;\n",
              "    }\n",
              "\n",
              "    .dataframe thead th {\n",
              "        text-align: right;\n",
              "    }\n",
              "</style>\n",
              "<table border=\"1\" class=\"dataframe\">\n",
              "  <thead>\n",
              "    <tr style=\"text-align: right;\">\n",
              "      <th></th>\n",
              "      <th>latitude</th>\n",
              "      <th>longitude</th>\n",
              "      <th>month</th>\n",
              "      <th>fire_count</th>\n",
              "      <th>fire</th>\n",
              "      <th>fire_cnt_before</th>\n",
              "      <th>fire_before</th>\n",
              "      <th>fire_cnt_last_year</th>\n",
              "      <th>fire_last_year</th>\n",
              "      <th>fire_cnt_last_year_same_month</th>\n",
              "      <th>fire_last_year_same_month</th>\n",
              "    </tr>\n",
              "    <tr>\n",
              "      <th>year</th>\n",
              "      <th></th>\n",
              "      <th></th>\n",
              "      <th></th>\n",
              "      <th></th>\n",
              "      <th></th>\n",
              "      <th></th>\n",
              "      <th></th>\n",
              "      <th></th>\n",
              "      <th></th>\n",
              "      <th></th>\n",
              "      <th></th>\n",
              "    </tr>\n",
              "  </thead>\n",
              "  <tbody>\n",
              "    <tr>\n",
              "      <th>2020</th>\n",
              "      <td>58968</td>\n",
              "      <td>58968</td>\n",
              "      <td>58968</td>\n",
              "      <td>58968</td>\n",
              "      <td>58968</td>\n",
              "      <td>58968</td>\n",
              "      <td>58968</td>\n",
              "      <td>58968</td>\n",
              "      <td>58968</td>\n",
              "      <td>58968</td>\n",
              "      <td>58968</td>\n",
              "    </tr>\n",
              "    <tr>\n",
              "      <th>2021</th>\n",
              "      <td>58968</td>\n",
              "      <td>58968</td>\n",
              "      <td>58968</td>\n",
              "      <td>58968</td>\n",
              "      <td>58968</td>\n",
              "      <td>58968</td>\n",
              "      <td>58968</td>\n",
              "      <td>58968</td>\n",
              "      <td>58968</td>\n",
              "      <td>58968</td>\n",
              "      <td>58968</td>\n",
              "    </tr>\n",
              "  </tbody>\n",
              "</table>\n",
              "</div>\n",
              "      <button class=\"colab-df-convert\" onclick=\"convertToInteractive('df-59ea40c1-a51f-4d7c-910f-9b0dc21b22b3')\"\n",
              "              title=\"Convert this dataframe to an interactive table.\"\n",
              "              style=\"display:none;\">\n",
              "        \n",
              "  <svg xmlns=\"http://www.w3.org/2000/svg\" height=\"24px\"viewBox=\"0 0 24 24\"\n",
              "       width=\"24px\">\n",
              "    <path d=\"M0 0h24v24H0V0z\" fill=\"none\"/>\n",
              "    <path d=\"M18.56 5.44l.94 2.06.94-2.06 2.06-.94-2.06-.94-.94-2.06-.94 2.06-2.06.94zm-11 1L8.5 8.5l.94-2.06 2.06-.94-2.06-.94L8.5 2.5l-.94 2.06-2.06.94zm10 10l.94 2.06.94-2.06 2.06-.94-2.06-.94-.94-2.06-.94 2.06-2.06.94z\"/><path d=\"M17.41 7.96l-1.37-1.37c-.4-.4-.92-.59-1.43-.59-.52 0-1.04.2-1.43.59L10.3 9.45l-7.72 7.72c-.78.78-.78 2.05 0 2.83L4 21.41c.39.39.9.59 1.41.59.51 0 1.02-.2 1.41-.59l7.78-7.78 2.81-2.81c.8-.78.8-2.07 0-2.86zM5.41 20L4 18.59l7.72-7.72 1.47 1.35L5.41 20z\"/>\n",
              "  </svg>\n",
              "      </button>\n",
              "      \n",
              "  <style>\n",
              "    .colab-df-container {\n",
              "      display:flex;\n",
              "      flex-wrap:wrap;\n",
              "      gap: 12px;\n",
              "    }\n",
              "\n",
              "    .colab-df-convert {\n",
              "      background-color: #E8F0FE;\n",
              "      border: none;\n",
              "      border-radius: 50%;\n",
              "      cursor: pointer;\n",
              "      display: none;\n",
              "      fill: #1967D2;\n",
              "      height: 32px;\n",
              "      padding: 0 0 0 0;\n",
              "      width: 32px;\n",
              "    }\n",
              "\n",
              "    .colab-df-convert:hover {\n",
              "      background-color: #E2EBFA;\n",
              "      box-shadow: 0px 1px 2px rgba(60, 64, 67, 0.3), 0px 1px 3px 1px rgba(60, 64, 67, 0.15);\n",
              "      fill: #174EA6;\n",
              "    }\n",
              "\n",
              "    [theme=dark] .colab-df-convert {\n",
              "      background-color: #3B4455;\n",
              "      fill: #D2E3FC;\n",
              "    }\n",
              "\n",
              "    [theme=dark] .colab-df-convert:hover {\n",
              "      background-color: #434B5C;\n",
              "      box-shadow: 0px 1px 3px 1px rgba(0, 0, 0, 0.15);\n",
              "      filter: drop-shadow(0px 1px 2px rgba(0, 0, 0, 0.3));\n",
              "      fill: #FFFFFF;\n",
              "    }\n",
              "  </style>\n",
              "\n",
              "      <script>\n",
              "        const buttonEl =\n",
              "          document.querySelector('#df-59ea40c1-a51f-4d7c-910f-9b0dc21b22b3 button.colab-df-convert');\n",
              "        buttonEl.style.display =\n",
              "          google.colab.kernel.accessAllowed ? 'block' : 'none';\n",
              "\n",
              "        async function convertToInteractive(key) {\n",
              "          const element = document.querySelector('#df-59ea40c1-a51f-4d7c-910f-9b0dc21b22b3');\n",
              "          const dataTable =\n",
              "            await google.colab.kernel.invokeFunction('convertToInteractive',\n",
              "                                                     [key], {});\n",
              "          if (!dataTable) return;\n",
              "\n",
              "          const docLinkHtml = 'Like what you see? Visit the ' +\n",
              "            '<a target=\"_blank\" href=https://colab.research.google.com/notebooks/data_table.ipynb>data table notebook</a>'\n",
              "            + ' to learn more about interactive tables.';\n",
              "          element.innerHTML = '';\n",
              "          dataTable['output_type'] = 'display_data';\n",
              "          await google.colab.output.renderOutput(dataTable, element);\n",
              "          const docLink = document.createElement('div');\n",
              "          docLink.innerHTML = docLinkHtml;\n",
              "          element.appendChild(docLink);\n",
              "        }\n",
              "      </script>\n",
              "    </div>\n",
              "  </div>\n",
              "  "
            ]
          },
          "metadata": {},
          "execution_count": 15
        }
      ]
    },
    {
      "cell_type": "code",
      "source": [
        "test.groupby('year').count()"
      ],
      "metadata": {
        "colab": {
          "base_uri": "https://localhost:8080/",
          "height": 112
        },
        "id": "XuiDJA_iOCNU",
        "outputId": "3daeb96d-3c08-4170-c09f-8c09dc0c081b"
      },
      "execution_count": 16,
      "outputs": [
        {
          "output_type": "execute_result",
          "data": {
            "text/plain": [
              "      latitude  longitude  month  fire_count   fire  fire_cnt_before  \\\n",
              "year                                                                   \n",
              "2022     14742      14742  14742       14742  14742            14742   \n",
              "\n",
              "      fire_before  fire_cnt_last_year  fire_last_year  \\\n",
              "year                                                    \n",
              "2022        14742               14742           14742   \n",
              "\n",
              "      fire_cnt_last_year_same_month  fire_last_year_same_month  \n",
              "year                                                            \n",
              "2022                          14742                      14742  "
            ],
            "text/html": [
              "\n",
              "  <div id=\"df-a8baaeb4-97e4-427e-820a-db6b12312ba0\">\n",
              "    <div class=\"colab-df-container\">\n",
              "      <div>\n",
              "<style scoped>\n",
              "    .dataframe tbody tr th:only-of-type {\n",
              "        vertical-align: middle;\n",
              "    }\n",
              "\n",
              "    .dataframe tbody tr th {\n",
              "        vertical-align: top;\n",
              "    }\n",
              "\n",
              "    .dataframe thead th {\n",
              "        text-align: right;\n",
              "    }\n",
              "</style>\n",
              "<table border=\"1\" class=\"dataframe\">\n",
              "  <thead>\n",
              "    <tr style=\"text-align: right;\">\n",
              "      <th></th>\n",
              "      <th>latitude</th>\n",
              "      <th>longitude</th>\n",
              "      <th>month</th>\n",
              "      <th>fire_count</th>\n",
              "      <th>fire</th>\n",
              "      <th>fire_cnt_before</th>\n",
              "      <th>fire_before</th>\n",
              "      <th>fire_cnt_last_year</th>\n",
              "      <th>fire_last_year</th>\n",
              "      <th>fire_cnt_last_year_same_month</th>\n",
              "      <th>fire_last_year_same_month</th>\n",
              "    </tr>\n",
              "    <tr>\n",
              "      <th>year</th>\n",
              "      <th></th>\n",
              "      <th></th>\n",
              "      <th></th>\n",
              "      <th></th>\n",
              "      <th></th>\n",
              "      <th></th>\n",
              "      <th></th>\n",
              "      <th></th>\n",
              "      <th></th>\n",
              "      <th></th>\n",
              "      <th></th>\n",
              "    </tr>\n",
              "  </thead>\n",
              "  <tbody>\n",
              "    <tr>\n",
              "      <th>2022</th>\n",
              "      <td>14742</td>\n",
              "      <td>14742</td>\n",
              "      <td>14742</td>\n",
              "      <td>14742</td>\n",
              "      <td>14742</td>\n",
              "      <td>14742</td>\n",
              "      <td>14742</td>\n",
              "      <td>14742</td>\n",
              "      <td>14742</td>\n",
              "      <td>14742</td>\n",
              "      <td>14742</td>\n",
              "    </tr>\n",
              "  </tbody>\n",
              "</table>\n",
              "</div>\n",
              "      <button class=\"colab-df-convert\" onclick=\"convertToInteractive('df-a8baaeb4-97e4-427e-820a-db6b12312ba0')\"\n",
              "              title=\"Convert this dataframe to an interactive table.\"\n",
              "              style=\"display:none;\">\n",
              "        \n",
              "  <svg xmlns=\"http://www.w3.org/2000/svg\" height=\"24px\"viewBox=\"0 0 24 24\"\n",
              "       width=\"24px\">\n",
              "    <path d=\"M0 0h24v24H0V0z\" fill=\"none\"/>\n",
              "    <path d=\"M18.56 5.44l.94 2.06.94-2.06 2.06-.94-2.06-.94-.94-2.06-.94 2.06-2.06.94zm-11 1L8.5 8.5l.94-2.06 2.06-.94-2.06-.94L8.5 2.5l-.94 2.06-2.06.94zm10 10l.94 2.06.94-2.06 2.06-.94-2.06-.94-.94-2.06-.94 2.06-2.06.94z\"/><path d=\"M17.41 7.96l-1.37-1.37c-.4-.4-.92-.59-1.43-.59-.52 0-1.04.2-1.43.59L10.3 9.45l-7.72 7.72c-.78.78-.78 2.05 0 2.83L4 21.41c.39.39.9.59 1.41.59.51 0 1.02-.2 1.41-.59l7.78-7.78 2.81-2.81c.8-.78.8-2.07 0-2.86zM5.41 20L4 18.59l7.72-7.72 1.47 1.35L5.41 20z\"/>\n",
              "  </svg>\n",
              "      </button>\n",
              "      \n",
              "  <style>\n",
              "    .colab-df-container {\n",
              "      display:flex;\n",
              "      flex-wrap:wrap;\n",
              "      gap: 12px;\n",
              "    }\n",
              "\n",
              "    .colab-df-convert {\n",
              "      background-color: #E8F0FE;\n",
              "      border: none;\n",
              "      border-radius: 50%;\n",
              "      cursor: pointer;\n",
              "      display: none;\n",
              "      fill: #1967D2;\n",
              "      height: 32px;\n",
              "      padding: 0 0 0 0;\n",
              "      width: 32px;\n",
              "    }\n",
              "\n",
              "    .colab-df-convert:hover {\n",
              "      background-color: #E2EBFA;\n",
              "      box-shadow: 0px 1px 2px rgba(60, 64, 67, 0.3), 0px 1px 3px 1px rgba(60, 64, 67, 0.15);\n",
              "      fill: #174EA6;\n",
              "    }\n",
              "\n",
              "    [theme=dark] .colab-df-convert {\n",
              "      background-color: #3B4455;\n",
              "      fill: #D2E3FC;\n",
              "    }\n",
              "\n",
              "    [theme=dark] .colab-df-convert:hover {\n",
              "      background-color: #434B5C;\n",
              "      box-shadow: 0px 1px 3px 1px rgba(0, 0, 0, 0.15);\n",
              "      filter: drop-shadow(0px 1px 2px rgba(0, 0, 0, 0.3));\n",
              "      fill: #FFFFFF;\n",
              "    }\n",
              "  </style>\n",
              "\n",
              "      <script>\n",
              "        const buttonEl =\n",
              "          document.querySelector('#df-a8baaeb4-97e4-427e-820a-db6b12312ba0 button.colab-df-convert');\n",
              "        buttonEl.style.display =\n",
              "          google.colab.kernel.accessAllowed ? 'block' : 'none';\n",
              "\n",
              "        async function convertToInteractive(key) {\n",
              "          const element = document.querySelector('#df-a8baaeb4-97e4-427e-820a-db6b12312ba0');\n",
              "          const dataTable =\n",
              "            await google.colab.kernel.invokeFunction('convertToInteractive',\n",
              "                                                     [key], {});\n",
              "          if (!dataTable) return;\n",
              "\n",
              "          const docLinkHtml = 'Like what you see? Visit the ' +\n",
              "            '<a target=\"_blank\" href=https://colab.research.google.com/notebooks/data_table.ipynb>data table notebook</a>'\n",
              "            + ' to learn more about interactive tables.';\n",
              "          element.innerHTML = '';\n",
              "          dataTable['output_type'] = 'display_data';\n",
              "          await google.colab.output.renderOutput(dataTable, element);\n",
              "          const docLink = document.createElement('div');\n",
              "          docLink.innerHTML = docLinkHtml;\n",
              "          element.appendChild(docLink);\n",
              "        }\n",
              "      </script>\n",
              "    </div>\n",
              "  </div>\n",
              "  "
            ]
          },
          "metadata": {},
          "execution_count": 16
        }
      ]
    },
    {
      "cell_type": "code",
      "source": [
        "features = [\n",
        "    'latitude', 'longitude', 'month',\n",
        "    'fire_cnt_before', 'fire_before',\n",
        "    'fire_cnt_last_year', 'fire_last_year',\n",
        "    'fire_cnt_last_year_same_month', 'fire_last_year_same_month'\n",
        "]"
      ],
      "metadata": {
        "id": "oxO8NTA1ODMy"
      },
      "execution_count": 17,
      "outputs": []
    },
    {
      "cell_type": "code",
      "source": [
        "train.columns"
      ],
      "metadata": {
        "colab": {
          "base_uri": "https://localhost:8080/"
        },
        "id": "4p3BzfjjOHGn",
        "outputId": "699663b2-1292-4b84-8a6b-dcc511f8a4d4"
      },
      "execution_count": 18,
      "outputs": [
        {
          "output_type": "execute_result",
          "data": {
            "text/plain": [
              "Index(['latitude', 'longitude', 'year', 'month', 'fire_count', 'fire',\n",
              "       'fire_cnt_before', 'fire_before', 'fire_cnt_last_year',\n",
              "       'fire_last_year', 'fire_cnt_last_year_same_month',\n",
              "       'fire_last_year_same_month'],\n",
              "      dtype='object')"
            ]
          },
          "metadata": {},
          "execution_count": 18
        }
      ]
    },
    {
      "cell_type": "code",
      "source": [
        "train_data = lgb.Dataset(train[features], label=train.fire)\n",
        "valid_data = lgb.Dataset(valid[features], label=valid.fire)\n"
      ],
      "metadata": {
        "id": "jSsgSvdNOI52"
      },
      "execution_count": 19,
      "outputs": []
    },
    {
      "cell_type": "code",
      "source": [
        "train_data = lgb.Dataset(train[features], label=train.fire)\n",
        "valid_data = lgb.Dataset(valid[features], label=valid.fire)\n"
      ],
      "metadata": {
        "id": "mOExalZOOLKM"
      },
      "execution_count": 20,
      "outputs": []
    },
    {
      "cell_type": "code",
      "source": [
        "parameters = {'num_leaves': 10, 'max_depth': 8, 'objective': 'binary', 'metric': 'auc'}\n",
        "num_round = 500"
      ],
      "metadata": {
        "id": "htJDHuA8ORIg"
      },
      "execution_count": 21,
      "outputs": []
    },
    {
      "cell_type": "code",
      "source": [
        "model = lgb.train(parameters, train_data, num_round, valid_sets=[valid_data],\n",
        "                  early_stopping_rounds=5, verbose_eval=50)"
      ],
      "metadata": {
        "colab": {
          "base_uri": "https://localhost:8080/"
        },
        "id": "wJV19ObzOS1S",
        "outputId": "0acad332-8366-4864-cd10-6514a21fa4cd"
      },
      "execution_count": 22,
      "outputs": [
        {
          "output_type": "stream",
          "name": "stdout",
          "text": [
            "Training until validation scores don't improve for 5 rounds.\n",
            "[50]\tvalid_0's auc: 0.929909\n",
            "[100]\tvalid_0's auc: 0.932862\n",
            "[150]\tvalid_0's auc: 0.934364\n",
            "[200]\tvalid_0's auc: 0.935244\n",
            "Early stopping, best iteration is:\n",
            "[198]\tvalid_0's auc: 0.935247\n"
          ]
        }
      ]
    },
    {
      "cell_type": "code",
      "source": [
        "test_predictions = model.predict(test[features])"
      ],
      "metadata": {
        "id": "LkVNnlyGOVyQ"
      },
      "execution_count": 24,
      "outputs": []
    },
    {
      "cell_type": "code",
      "source": [
        "test_auc = metrics.roc_auc_score(test.fire, test_predictions)\n",
        "test_auc"
      ],
      "metadata": {
        "colab": {
          "base_uri": "https://localhost:8080/"
        },
        "id": "TyCzhzhhOcvs",
        "outputId": "ece13eb6-d816-4373-e36d-7d6596195317"
      },
      "execution_count": 25,
      "outputs": [
        {
          "output_type": "execute_result",
          "data": {
            "text/plain": [
              "0.9724192806466917"
            ]
          },
          "metadata": {},
          "execution_count": 25
        }
      ]
    },
    {
      "cell_type": "code",
      "source": [
        "fpr, tpr, thr = metrics.roc_curve(test.fire, test_predictions)\n",
        "px.line(pd.DataFrame(dict(FPR=fpr, TPR=tpr)),\n",
        "        x='FPR', y='TPR', title='Fire/hotspot model performance for 2021')\n"
      ],
      "metadata": {
        "colab": {
          "base_uri": "https://localhost:8080/",
          "height": 542
        },
        "id": "g8CdKPjfOj0U",
        "outputId": "8046d458-3fe2-457e-eb38-74549ea61f57"
      },
      "execution_count": 26,
      "outputs": [
        {
          "output_type": "display_data",
          "data": {
            "text/html": [
              "<html>\n",
              "<head><meta charset=\"utf-8\" /></head>\n",
              "<body>\n",
              "    <div>            <script src=\"https://cdnjs.cloudflare.com/ajax/libs/mathjax/2.7.5/MathJax.js?config=TeX-AMS-MML_SVG\"></script><script type=\"text/javascript\">if (window.MathJax) {MathJax.Hub.Config({SVG: {font: \"STIX-Web\"}});}</script>                <script type=\"text/javascript\">window.PlotlyConfig = {MathJaxConfig: 'local'};</script>\n",
              "        <script src=\"https://cdn.plot.ly/plotly-2.8.3.min.js\"></script>                <div id=\"ba44e500-ba00-40f0-a0c6-7a14896b0fb9\" class=\"plotly-graph-div\" style=\"height:525px; width:100%;\"></div>            <script type=\"text/javascript\">                                    window.PLOTLYENV=window.PLOTLYENV || {};                                    if (document.getElementById(\"ba44e500-ba00-40f0-a0c6-7a14896b0fb9\")) {                    Plotly.newPlot(                        \"ba44e500-ba00-40f0-a0c6-7a14896b0fb9\",                        [{\"hovertemplate\":\"FPR=%{x}<br>TPR=%{y}<extra></extra>\",\"legendgroup\":\"\",\"line\":{\"color\":\"#636efa\",\"dash\":\"solid\"},\"marker\":{\"symbol\":\"circle\"},\"mode\":\"lines\",\"name\":\"\",\"showlegend\":false,\"x\":[0.0,0.0,0.0,0.0,0.0,0.0,0.0,0.0,0.0,0.0,0.0,0.0,0.0,0.0,0.0,0.0,0.0,0.0,0.0,0.0,0.0,0.0,0.0,0.0,0.0,0.0,0.0,0.0,0.0,0.0,0.0,0.0,0.0,0.0,0.0,0.0,0.0,0.0,0.0,0.0,0.0,0.0,0.0,0.0,0.0,0.0,0.0,0.0,0.0,0.0,0.0,0.0,0.0,0.0,0.0,0.0,0.0,0.0,0.0,0.0,0.0,0.0,0.0,0.0,0.0,0.0,0.0,0.0,0.0,0.0,0.0,0.0,0.0,0.0,0.0,0.0,0.0,0.0,0.0,0.0,0.0,0.0,0.0,0.0,0.0,0.0,0.0,0.0,0.00023087578882561183,0.00023087578882561183,0.00030783438510081576,0.0003847929813760197,0.0003847929813760197,0.00046175157765122367,0.00046175157765122367,0.0005387101739264276,0.0005387101739264276,0.0006156687702016315,0.0006156687702016315,0.0006926273664768354,0.0006926273664768354,0.0007695859627520394,0.0007695859627520394,0.0010004617515776513,0.0010004617515776513,0.0010774203478528552,0.0010774203478528552,0.0011543789441280591,0.0011543789441280591,0.001231337540403263,0.001231337540403263,0.001308296136678467,0.001308296136678467,0.0013852547329536709,0.0013852547329536709,0.0016161305217792827,0.0016161305217792827,0.0016930891180544866,0.0016930891180544866,0.0017700477143296905,0.0017700477143296905,0.0018470063106048947,0.0018470063106048947,0.0019239649068800986,0.0019239649068800986,0.0020009235031553025,0.0020009235031553025,0.0021548406957057104,0.0021548406957057104,0.0022317992919809143,0.0023087578882561182,0.0023087578882561182,0.002462675080806526,0.002462675080806526,0.002462675080806526,0.00253963367708173,0.00253963367708173,0.00253963367708173,0.00253963367708173,0.002693550869632138,0.002693550869632138,0.0028474680621825457,0.0028474680621825457,0.0029244266584577496,0.0029244266584577496,0.0030013852547329536,0.0030013852547329536,0.0030783438510081575,0.0030783438510081575,0.0031553024472833614,0.0031553024472833614,0.0032322610435585653,0.0032322610435585653,0.0033092196398337693,0.0033092196398337693,0.003386178236108973,0.003386178236108973,0.003463136832384177,0.003463136832384177,0.003540095428659381,0.003540095428659381,0.0036170540249345854,0.0036170540249345854,0.0036940126212097893,0.0036940126212097893,0.0037709712174849933,0.003924888410035401,0.003924888410035401,0.004001847006310605,0.004001847006310605,0.004001847006310605,0.004078805602585809,0.004078805602585809,0.004155764198861013,0.004155764198861013,0.004232722795136217,0.004232722795136217,0.004309681391411421,0.004309681391411421,0.004463598583961829,0.004463598583961829,0.0045405571802370325,0.0045405571802370325,0.0046175157765122364,0.0046175157765122364,0.0046175157765122364,0.0046175157765122364,0.00469447437278744,0.00469447437278744,0.004771432969062644,0.004771432969062644,0.004848391565337848,0.004848391565337848,0.004925350161613052,0.004925350161613052,0.004925350161613052,0.005002308757888256,0.005002308757888256,0.00507926735416346,0.00507926735416346,0.005233184546713868,0.005233184546713868,0.005310143142989072,0.005310143142989072,0.00546406033553948,0.00546406033553948,0.0055410189318146836,0.0055410189318146836,0.0056179775280898875,0.0056179775280898875,0.005694936124365091,0.005694936124365091,0.005771894720640295,0.005771894720640295,0.005925811913190703,0.005925811913190703,0.006002770509465907,0.006002770509465907,0.006079729105741111,0.006079729105741111,0.006156687702016315,0.006156687702016315,0.006233646298291519,0.006233646298291519,0.006310604894566723,0.006310604894566723,0.006310604894566723,0.006387563490841927,0.006464522087117131,0.006464522087117131,0.006541480683392335,0.006541480683392335,0.0066184392796675385,0.0066184392796675385,0.006772356472217946,0.006772356472217946,0.006926273664768354,0.006926273664768354,0.007003232261043558,0.007003232261043558,0.007080190857318762,0.007080190857318762,0.007157149453593967,0.007157149453593967,0.007388025242419579,0.007388025242419579,0.007464983838694783,0.007464983838694783,0.0075419424349699865,0.0075419424349699865,0.0076189010312451904,0.007695859627520394,0.007695859627520394,0.007772818223795598,0.007772818223795598,0.007849776820070802,0.007849776820070802,0.00800369401262121,0.00800369401262121,0.00800369401262121,0.008080652608896413,0.008080652608896413,0.008234569801446821,0.008234569801446821,0.008311528397722026,0.008311528397722026,0.008388486993997229,0.008388486993997229,0.008619362782822841,0.008619362782822841,0.008619362782822841,0.008696321379098045,0.008696321379098045,0.00877327997537325,0.00877327997537325,0.00877327997537325,0.00877327997537325,0.008927197167923657,0.008927197167923657,0.00900415576419886,0.00900415576419886,0.009081114360474065,0.009081114360474065,0.009158072956749268,0.009158072956749268,0.009311990149299676,0.009311990149299676,0.00938894874557488,0.00938894874557488,0.009465907341850084,0.009465907341850084,0.009542865938125289,0.009542865938125289,0.009619824534400493,0.009619824534400493,0.009696783130675696,0.009696783130675696,0.009773741726950901,0.009773741726950901,0.009850700323226104,0.009850700323226104,0.01015853470832692,0.01015853470832692,0.010235493304602125,0.010235493304602125,0.010312451900877328,0.010312451900877328,0.01054332768970294,0.01054332768970294,0.010620286285978144,0.010620286285978144,0.010697244882253348,0.010697244882253348,0.010851162074803756,0.010851162074803756,0.011005079267354164,0.011005079267354164,0.011082037863629367,0.011082037863629367,0.011235955056179775,0.011235955056179775,0.011389872248730183,0.011389872248730183,0.01154378944128059,0.01154378944128059,0.011620748037555795,0.011620748037555795,0.011697706633830999,0.011697706633830999,0.011774665230106203,0.011774665230106203,0.012005541018931814,0.012005541018931814,0.012082499615207019,0.012082499615207019,0.012159458211482222,0.012159458211482222,0.012544251192858243,0.012544251192858243,0.012621209789133446,0.012621209789133446,0.012775126981683853,0.012775126981683853,0.012929044174234261,0.013006002770509466,0.01308296136678467,0.01308296136678467,0.013159919963059874,0.013159919963059874,0.013159919963059874,0.013159919963059874,0.013236878559335077,0.013236878559335077,0.013544712944435893,0.013544712944435893,0.014006464522087116,0.014006464522087116,0.014160381714637524,0.014160381714637524,0.014237340310912729,0.014237340310912729,0.014314298907187934,0.014314298907187934,0.014699091888563953,0.014699091888563953,0.015006926273664768,0.015006926273664768,0.015083884869939973,0.015083884869939973,0.015160843466215176,0.015160843466215176,0.015237802062490381,0.015314760658765584,0.015545636447591197,0.015545636447591197,0.015699553640141604,0.015699553640141604,0.015930429428967215,0.015930429428967215,0.01600738802524242,0.01600738802524242,0.01623826381406803,0.01623826381406803,0.016315222410343236,0.016315222410343236,0.01639218100661844,0.01639218100661844,0.016469139602893642,0.016546098199168847,0.016546098199168847,0.016853932584269662,0.016853932584269662,0.016930891180544867,0.016930891180544867,0.017007849776820072,0.017007849776820072,0.017084808373095273,0.017084808373095273,0.017238725565645683,0.017238725565645683,0.017315684161920888,0.017315684161920888,0.01739264275819609,0.01739264275819609,0.017623518547021703,0.017623518547021703,0.01777743573957211,0.01777743573957211,0.01816222872094813,0.01816222872094813,0.018470063106048946,0.018470063106048946,0.01854702170232415,0.01854702170232415,0.018700938894874557,0.018700938894874557,0.01877789749114976,0.01877789749114976,0.018854856087424966,0.018854856087424966,0.018931814683700168,0.018931814683700168,0.019085731876250577,0.019085731876250577,0.019239649068800987,0.019239649068800987,0.019316607665076188,0.019316607665076188,0.019393566261351393,0.019393566261351393,0.019547483453901802,0.019547483453901802,0.01970140064645221,0.01970140064645221,0.019778359242727413,0.019778359242727413,0.019855317839002618,0.020009235031553024,0.020009235031553024,0.02008619362782823,0.02008619362782823,0.020163152224103434,0.020163152224103434,0.02031706941665384,0.02031706941665384,0.020394028012929045,0.020394028012929045,0.02047098660920425,0.02047098660920425,0.02054794520547945,0.02054794520547945,0.021317531168231492,0.021317531168231492,0.021471448360781898,0.021471448360781898,0.021548406957057103,0.021548406957057103,0.021625365553332308,0.021625365553332308,0.021779282745882714,0.021779282745882714,0.02185624134215792,0.02185624134215792,0.021933199938433123,0.021933199938433123,0.022164075727258734,0.022164075727258734,0.022317992919809144,0.022317992919809144,0.02247191011235955,0.02247191011235955,0.02262582730490996,0.02270278590118516,0.02270278590118516,0.022779744497460366,0.022779744497460366,0.022933661690010775,0.022933661690010775,0.023010620286285977,0.023010620286285977,0.02324149607511159,0.02324149607511159,0.023318454671386792,0.023318454671386792,0.023395413267661997,0.023549330460212407,0.023780206249038018,0.023780206249038018,0.023934123441588427,0.023934123441588427,0.024164999230414038,0.024164999230414038,0.024703709404340465,0.024703709404340465,0.024934585193166076,0.024934585193166076,0.02501154378944128,0.02501154378944128,0.025088502385716485,0.02516546098199169,0.02516546098199169,0.0253963367708173,0.0253963367708173,0.025473295367092506,0.025473295367092506,0.025550253963367707,0.025550253963367707,0.025627212559642912,0.025627212559642912,0.025704171155918117,0.025704171155918117,0.025858088348468523,0.025858088348468523,0.026012005541018932,0.026012005541018932,0.026319839926119748,0.026319839926119748,0.026396798522394953,0.026396798522394953,0.026627674311220564,0.026627674311220564,0.027012467292596584,0.02716638448514699,0.0273972602739726,0.0273972602739726,0.02755117746652301,0.02755117746652301,0.027628136062798216,0.027628136062798216,0.027705094659073417,0.027705094659073417,0.02778205325534862,0.02778205325534862,0.02793597044789903,0.02793597044789903,0.028628597814375868,0.028628597814375868,0.02885947360320148,0.02885947360320148,0.029013390795751885,0.029167307988302294,0.0292442665845775,0.0293212251808527,0.0293212251808527,0.029398183777127905,0.029398183777127905,0.029629059565953516,0.029629059565953516,0.029782976758503926,0.029782976758503926,0.02985993535477913,0.02985993535477913,0.030167769739879946,0.030167769739879946,0.030475604124980762,0.030475604124980762,0.030552562721255963,0.030552562721255963,0.030706479913806373,0.030706479913806373,0.030706479913806373,0.03101431429890719,0.031091272895182393,0.0312451900877328,0.0312451900877328,0.03155302447283362,0.031629983069108816,0.031783900261659226,0.03201477605048484,0.03201477605048484,0.03216869324303525,0.03216869324303525,0.03239956903186086,0.03239956903186086,0.03247652762813606,0.03255348622441127,0.032707403416961676,0.032707403416961676,0.03286132060951208,0.03286132060951208,0.032938279205787284,0.0331691549946129,0.0332461135908881,0.03340003078343851,0.03340003078343851,0.03340003078343851,0.033707865168539325,0.033707865168539325,0.03378482376481453,0.03378482376481453,0.03409265814991535,0.03409265814991535,0.03416961674619055,0.03416961674619055,0.034323533938740956,0.034323533938740956,0.03470832692011698,0.03486224411266738,0.03486224411266738,0.03493920270894259,0.03501616130521779,0.03501616130521779,0.035093119901493,0.035093119901493,0.03540095428659381,0.035477912882869014,0.035477912882869014,0.035631830075419424,0.03570878867169463,0.035785747267969834,0.035785747267969834,0.03586270586424504,0.03586270586424504,0.03601662305679544,0.03601662305679544,0.03617054024934585,0.03632445744189626,0.03663229182699707,0.03663229182699707,0.03663229182699707,0.03663229182699707,0.03670925042327228,0.03670925042327228,0.03678620901954748,0.03694012621209789,0.0370940434046483,0.0370940434046483,0.037171002000923506,0.03740187778974911,0.03770971217484993,0.03770971217484993,0.03778667077112514,0.03778667077112514,0.03794058796367554,0.03809450515622595,0.03840233954132677,0.038479298137601974,0.038479298137601974,0.03855625673387717,0.03855625673387717,0.038633215330152376,0.038633215330152376,0.03871017392642758,0.03886409111897799,0.03886409111897799,0.038941049715253195,0.0390180083115284,0.0391719255040788,0.03924888410035401,0.03924888410035401,0.03932584269662921,0.03932584269662921,0.03947975988917962,0.03955671848545483,0.039710635678005236,0.039941511466830844,0.039941511466830844,0.04001847006310605,0.04001847006310605,0.04009542865938125,0.04009542865938125,0.04032630444820687,0.040557180237032475,0.04078805602585809,0.04078805602585809,0.040865014622133294,0.040865014622133294,0.04117284900723411,0.041326766199784516,0.041326766199784516,0.04140372479605972,0.04140372479605972,0.041480683392334926,0.041480683392334926,0.04155764198861013,0.04155764198861013,0.04209635216253656,0.04209635216253656,0.04225026935508696,0.042327227951362165,0.042327227951362165,0.04240418654763737,0.04240418654763737,0.04255810374018778,0.04255810374018778,0.042635062336462984,0.042635062336462984,0.04278897952901339,0.04278897952901339,0.042942896721563796,0.042942896721563796,0.043019855317839,0.043019855317839,0.043096813914114206,0.043096813914114206,0.04317377251038941,0.04317377251038941,0.04332768970293982,0.043404648299215025,0.04355856549176543,0.04355856549176543,0.04363552408804063,0.04371248268431584,0.04394335847314145,0.04417423426196706,0.04432815145451747,0.04432815145451747,0.04440511005079267,0.04463598583961829,0.04471294443589349,0.04471294443589349,0.04478990303216869,0.04478990303216869,0.044866861628443895,0.0449438202247191,0.045020778820994305,0.045020778820994305,0.045020778820994305,0.045174696013544714,0.045174696013544714,0.04525165460981992,0.04525165460981992,0.045328613206095124,0.04540557180237032,0.04540557180237032,0.04555948899492073,0.04555948899492073,0.045636447591195936,0.045636447591195936,0.04586732338002155,0.04586732338002155,0.04609819916884716,0.04609819916884716,0.04617515776512236,0.04625211636139757,0.04648299215022318,0.04648299215022318,0.04671386793904879,0.0468677851315992,0.0468677851315992,0.04702170232414961,0.04702170232414961,0.047252578112975216,0.04732953670925042,0.047406495305525626,0.047406495305525626,0.04748345390180083,0.04748345390180083,0.04763737109435124,0.04763737109435124,0.047714329690626445,0.04779128828690165,0.04794520547945205,0.04794520547945205,0.04802216407572726,0.04825303986455287,0.04825303986455287,0.048329998460828076,0.048329998460828076,0.048560874249653684,0.04863783284592889,0.04871479144220409,0.049484377404956134,0.04956133600123134,0.04956133600123134,0.04986917038633215,0.04986917038633215,0.050100046175157766,0.050253963367708175,0.0507157149453594,0.051100507926735414,0.051100507926735414,0.05117746652301062,0.05140834231183623,0.05140834231183623,0.05148530090811144,0.05148530090811144,0.05156225950438664,0.05156225950438664,0.051716176696937045,0.051716176696937045,0.05179313529321225,0.05194705248576266,0.05194705248576266,0.052024011082037865,0.05210096967831307,0.05210096967831307,0.052177928274588274,0.052177928274588274,0.05225488687086347,0.05233184546713868,0.05240880406341388,0.05240880406341388,0.05256272125596429,0.05256272125596429,0.052639679852239496,0.052639679852239496,0.052639679852239496,0.05302447283361551,0.05310143142989072,0.05317839002616592,0.05317839002616592,0.05340926581499154,0.05340926581499154,0.05348622441126674,0.05348622441126674,0.053640141603817144,0.053640141603817144,0.053640141603817144,0.05371710020009235,0.05371710020009235,0.05387101739264276,0.0546406033553948,0.054717561951670005,0.0547945205479452,0.05487147914422041,0.05487147914422041,0.05494843774049561,0.05502539633677082,0.055179313529321226,0.055333230721871636,0.055333230721871636,0.055333230721871636,0.055333230721871636,0.05548714791442204,0.05548714791442204,0.05571802370324765,0.05594889949207327,0.05610281668462367,0.05610281668462367,0.056333692473449284,0.056795444051100506,0.056949361243650916,0.057103278436201325,0.057257195628751735,0.057257195628751735,0.05741111282130214,0.05741111282130214,0.05748807141757734,0.05764198861012775,0.057949822995228564,0.057949822995228564,0.05802678159150377,0.05802678159150377,0.05818069878405418,0.05818069878405418,0.05825765738032938,0.05841157457287979,0.05841157457287979,0.058488533169155,0.058488533169155,0.058719408957980605,0.058719408957980605,0.05895028474680622,0.05895028474680622,0.05910420193935663,0.05925811913190703,0.05925811913190703,0.05933507772818224,0.05941203632445744,0.059642912113283056,0.05971987070955826,0.05971987070955826,0.05979682930583346,0.05979682930583346,0.05987378790210866,0.05987378790210866,0.06002770509465907,0.06010466369093428,0.06010466369093428,0.06018162228720948,0.06025858088348469,0.06033553947975989,0.060489456672310295,0.060643373864860704,0.060643373864860704,0.06072033246113591,0.060797291057411114,0.060951208249961523,0.060951208249961523,0.06118208403878713,0.06118208403878713,0.061259042635062336,0.061259042635062336,0.061412959827612745,0.06164383561643835,0.06164383561643835,0.06179775280898876,0.06179775280898876,0.06210558719408958,0.062182545790364786,0.062182545790364786,0.06225950438663999,0.06233646298291519,0.06233646298291519,0.06233646298291519,0.06233646298291519,0.0624903801754656,0.0624903801754656,0.0624903801754656,0.06279821456056642,0.06279821456056642,0.06287517315684162,0.06318300754194243,0.06318300754194243,0.06325996613821763,0.06372171771586886,0.06372171771586886,0.06402955210096968,0.06410651069724488,0.06426042788979529,0.0644143450823457,0.0644913036786209,0.06456826227489611,0.06456826227489611,0.0646452208711713,0.0646452208711713,0.06472217946744652,0.06472217946744652,0.06487609665999693,0.06487609665999693,0.06495305525627212,0.06495305525627212,0.06503001385254734,0.06503001385254734,0.06510697244882253,0.06510697244882253,0.06518393104509773,0.06518393104509773,0.06526088964137294,0.06541480683392335,0.06541480683392335,0.06556872402647376,0.06556872402647376,0.06572264121902416,0.06572264121902416,0.06579959981529937,0.06595351700784978,0.06603047560412498,0.06603047560412498,0.06618439279667539,0.06618439279667539,0.0664922271817762,0.0664922271817762,0.0665691857780514,0.0665691857780514,0.06664614437432662,0.06672310297060181,0.06672310297060181,0.06710789595197783,0.06710789595197783,0.06718485454825304,0.06733877174080345,0.06741573033707865,0.06741573033707865,0.06764660612590426,0.06780052331845467,0.06795444051100508,0.06810835770355549,0.06895490226258273,0.06910881945513314,0.06910881945513314,0.06926273664768355,0.06941665384023396,0.06941665384023396,0.06949361243650916,0.06949361243650916,0.06972448822533477,0.07003232261043559,0.070186239802986,0.0703401569955364,0.07049407418808681,0.07064799138063722,0.07072494997691242,0.07087886716946283,0.07087886716946283,0.07087886716946283,0.07095582576573803,0.07126366015083885,0.07126366015083885,0.07134061874711405,0.07134061874711405,0.07149453593966446,0.07157149453593967,0.0722641219024165,0.0722641219024165,0.0723410804986917,0.07257195628751732,0.07257195628751732,0.07287979067261813,0.07357241803909496,0.07357241803909496,0.07364937663537018,0.07372633523164537,0.07380329382792059,0.07380329382792059,0.07411112821302139,0.07411112821302139,0.0741880868092966,0.07434200400184701,0.07441896259812221,0.07488071417577344,0.07503463136832385,0.07503463136832385,0.07518854856087424,0.07541942434969987,0.07541942434969987,0.07549638294597506,0.07549638294597506,0.07557334154225027,0.07565030013852547,0.07580421733107588,0.07580421733107588,0.07595813452362629,0.0761890103124519,0.07626596890872711,0.07634292750500231,0.0764198861012775,0.07657380329382792,0.07695859627520395,0.07711251346775434,0.07734338925657996,0.07742034785285516,0.07749730644913037,0.07749730644913037,0.07757426504540557,0.07772818223795598,0.0780360166230568,0.0780360166230568,0.078112975219332,0.078112975219332,0.07826689241188241,0.07826689241188241,0.0783438510081576,0.0783438510081576,0.0783438510081576,0.07842080960443282,0.07857472679698323,0.07880560258580883,0.07911343697090965,0.07919039556718485,0.07919039556718485,0.07926735416346006,0.07926735416346006,0.07942127135601047,0.07965214714483608,0.07972910574111128,0.07972910574111128,0.07980606433738649,0.07980606433738649,0.07988302293366169,0.0801138987224873,0.0801908573187625,0.08042173310758811,0.08042173310758811,0.08049869170386333,0.08049869170386333,0.08065260889641374,0.08111436047406495,0.08142219485916577,0.08157611205171618,0.08173002924426659,0.08180698784054179,0.081883946436817,0.0821148222256426,0.0821148222256426,0.0821917808219178,0.08242265661074342,0.08242265661074342,0.08257657380329383,0.08273049099584423,0.08280744959211944,0.08326920116977066,0.08326920116977066,0.08334615976604587,0.08334615976604587,0.08350007695859628,0.08373095274742189,0.08373095274742189,0.0838079113436971,0.0838079113436971,0.0838848699399723,0.0839618285362475,0.08419270432507311,0.08419270432507311,0.08442358011389872,0.08442358011389872,0.08473141449899954,0.08473141449899954,0.08488533169154995,0.08488533169154995,0.08527012467292597,0.08527012467292597,0.08550100046175158,0.08557795905802679,0.08557795905802679,0.086039710635678,0.086039710635678,0.08634754502077882,0.08650146221332923,0.08673233800215484,0.08673233800215484,0.08688625519470525,0.08704017238725566,0.08704017238725566,0.08711713098353085,0.08727104817608126,0.08734800677235648,0.08734800677235648,0.08757888256118208,0.0878867169462829,0.0879636755425581,0.08842542712020933,0.08842542712020933,0.08857934431275974,0.08865630290903494,0.08865630290903494,0.08904109589041095,0.08904109589041095,0.08919501308296136,0.08950284746806218,0.08957980606433738,0.08957980606433738,0.0898876404494382,0.09004155764198861,0.09011851623826381,0.09011851623826381,0.09027243343081422,0.09034939202708943,0.09034939202708943,0.09050330921963984,0.09050330921963984,0.09081114360474064,0.09081114360474064,0.09088810220101586,0.09104201939356626,0.09119593658611667,0.09142681237494228,0.09142681237494228,0.09150377097121748,0.09150377097121748,0.0917346467600431,0.0918116053563183,0.0918116053563183,0.09188856395259351,0.09196552254886871,0.09235031553024473,0.09250423272279513,0.09265814991534554,0.09265814991534554,0.09273510851162074,0.09288902570417115,0.09288902570417115,0.09304294289672156,0.09304294289672156,0.09327381868554717,0.09327381868554717,0.09342773587809758,0.09342773587809758,0.09350469447437279,0.09358165307064799,0.09358165307064799,0.0937355702631984,0.093966446052024,0.093966446052024,0.09442819762967523,0.09450515622595043,0.09450515622595043,0.09450515622595043,0.09473603201477605,0.09504386639987687,0.09527474218870248,0.09527474218870248,0.09535170078497768,0.09542865938125289,0.0955825765738033,0.0956595351700785,0.09573649376635371,0.0958134523626289,0.0958904109589041,0.09596736955517932,0.09596736955517932,0.09612128674772973,0.09612128674772973,0.09627520394028014,0.09642912113283053,0.09650607972910574,0.09650607972910574,0.09673695551793135,0.09719870709558258,0.09727566569185778,0.09727566569185778,0.09789133446205942,0.09804525165460982,0.09812221025088502,0.09843004463598584,0.09843004463598584,0.09858396182853625,0.09873787902108666,0.09912267200246268,0.09927658919501309,0.09927658919501309,0.0994305063875635,0.0994305063875635,0.0995074649838387,0.0995074649838387,0.09981529936893951,0.09981529936893951,0.09996921656148992,0.10035400954286594,0.10073880252424196,0.10073880252424196,0.10089271971679237,0.10089271971679237,0.10104663690934278,0.10127751269816838,0.10150838848699399,0.10150838848699399,0.1016623056795444,0.10189318146837002,0.10189318146837002,0.10204709866092042,0.10220101585347083,0.10227797444974604,0.10235493304602124,0.10235493304602124,0.10250885023857165,0.10281668462367247,0.10289364321994766,0.10312451900877329,0.1035093119901493,0.1035862705864245,0.1035862705864245,0.10381714637525012,0.10397106356780052,0.10412498076035093,0.10443281514545175,0.10450977374172694,0.10450977374172694,0.10458673233800216,0.10466369093427735,0.10466369093427735,0.10489456672310297,0.10504848391565338,0.10597198707095583,0.10604894566723103,0.10612590426350624,0.10612590426350624,0.10681853162998307,0.10681853162998307,0.10697244882253348,0.10720332461135909,0.10720332461135909,0.1073572418039095,0.1074342004001847,0.10774203478528552,0.10774203478528552,0.10851162074803755,0.10851162074803755,0.10858857934431276,0.10858857934431276,0.10866553794058796,0.10866553794058796,0.10905033092196398,0.10905033092196398,0.10920424811451439,0.1093581653070648,0.1093581653070648,0.10943512390334001,0.10943512390334001,0.10974295828844081,0.10974295828844081,0.10981991688471603,0.10981991688471603,0.11005079267354163,0.11020470986609204,0.11028166846236724,0.11035862705864245,0.11035862705864245,0.11043558565491765,0.11043558565491765,0.11058950284746806,0.11089733723256888,0.11097429582884408,0.11097429582884408,0.1115130060027705,0.1115130060027705,0.11158996459904572,0.11158996459904572,0.11166692319532091,0.11205171617669693,0.11212867477297214,0.11251346775434816,0.11266738494689857,0.11282130213944898,0.11297521933199939,0.11297521933199939,0.1131291365245498,0.1131291365245498,0.1132830537171002,0.1134369709096506,0.1134369709096506,0.11359088810220101,0.11359088810220101,0.11366784669847622,0.11366784669847622,0.11374480529475142,0.11374480529475142,0.11405263967985224,0.11420655687240265,0.11436047406495306,0.11451439125750347,0.11459134985377867,0.11459134985377867,0.11482222564260428,0.11482222564260428,0.1151300600277051,0.11520701862398029,0.11543789441280591,0.11543789441280591,0.11559181160535632,0.11574572879790673,0.11605356318300754,0.11620748037555795,0.11628443897183316,0.11659227335693396,0.11659227335693396,0.11674619054948437,0.11682314914575959,0.11682314914575959,0.11690010774203478,0.11690010774203478,0.11713098353086039,0.11751577651223642,0.11774665230106203,0.11774665230106203,0.11797752808988764,0.11797752808988764,0.11813144528243805,0.11813144528243805,0.11820840387871326,0.11820840387871326,0.11836232107126365,0.11836232107126365,0.11836232107126365,0.11851623826381406,0.11851623826381406,0.11874711405263969,0.11874711405263969,0.11897798984146529,0.11897798984146529,0.1191319070340157,0.1192088656302909,0.11959365861166692,0.11959365861166692,0.11967061720794213,0.11997845159304295,0.12036324457441896,0.12036324457441896,0.12051716176696937,0.12051716176696937,0.12067107895951978,0.12067107895951978,0.12067107895951978,0.121132830537171,0.12128674772972141,0.12174849930737264,0.12174849930737264,0.12197937509619824,0.12197937509619824,0.12213329228874865,0.12228720948129906,0.12236416807757426,0.12236416807757426,0.12236416807757426,0.12244112667384947,0.12259504386639988,0.1229798368477759,0.12313375404032631,0.12321071263660151,0.12344158842542712,0.12613513929505926,0.12621209789133447,0.1270586424503617,0.1273664768354625,0.12875173156841618,0.1289056487609666,0.129059565953517,0.1308296136678467,0.1309835308603971,0.13113744805294753,0.13136832384177313,0.13175311682314914,0.13190703401569956,0.13213790980452517,0.13383099892257966,0.13421579190395566,0.13429275050023087,0.13452362628905648,0.13567800523318455,0.13575496382945976,0.13752501154378943,0.13783284592889025,0.1387563490841927,0.13898722487301832,0.13929505925811914,0.13937201785439435,0.13952593504694474,0.13967985223949514,0.13983376943204556,0.14029552100969678,0.14075727258734802,0.14114206556872402,0.14121902416499924,0.14191165153147606,0.14214252732030166,0.14245036170540248,0.1442973680160074,0.1444512852085578,0.144913036786209,0.14498999538248422,0.14537478836386025,0.14560566415268586,0.14568262274896107,0.14599045713406186,0.1461443743266123,0.1462213329228875,0.14760658765584117,0.14776050484839157,0.14791442204094196,0.14799138063721717,0.15076189010312452,0.15145451746960134,0.15153147606587655,0.15176235185470216,0.15183931045097737,0.152454979221179,0.15268585501000462,0.152839772202555,0.15291673079883022,0.15330152378020626,0.15376327535785747,0.15784208096044328,0.15922733569339695,0.15953517007849777,0.15968908727104816,0.1598430044635986,0.16061259042635062,0.16122825919655226,0.16130521779282747,0.16169001077420347,0.16253655533323072,0.16261351392950593,0.16276743112205633,0.16292134831460675,0.17461905494843774,0.1757734338925658,0.175850392488841,0.17638910266276744,0.17715868862551948,0.17738956441434509,0.17754348160689548,0.1776973987994459,0.17800523318454672,0.1780821917808219,0.17823610897337233,0.17831306756964754,0.17862090195474833,0.18231491457595814,0.18331537632753578,0.18354625211636139,0.1836232107126366,0.18400800369401263,0.1840849622902878,0.18423887948283824,0.18462367246421424,0.18493150684931506,0.19231953209173464,0.19239649068800985,0.1932430352470371,0.1933969524395875,0.1934739110358627,0.19362782822841312,0.1937047868246883,0.19393566261351394,0.19401262120978913,0.19416653840233955,0.19439741419116516,0.19462828997999077,0.19493612436509158,0.1952439587501924,0.1956287517315684,0.19624442050177004,0.19647529629059565,0.19662921348314608,0.19686008927197168,0.19701400646452208,0.1973987994458981,0.19786055102354932,0.19793750961982454,0.19824534400492536,0.19863013698630136,0.19878405417885178,0.19963059873787903,0.1997075573341542,0.20032322610435585,0.20047714329690627,0.20063106048945667,0.20070801908573188,0.2009388948745575,0.2016315222410343,0.20209327381868555,0.20217023241496074,0.20240110820378637,0.20255502539633677,0.20263198399261198,0.2054794520547945,0.20578728643989533,0.20663383099892257,0.206787748191473,0.20709558257657382,0.2072494997691242,0.20732645836539942,0.20763429275050024,0.20824996152070185,0.20848083730952746,0.2088656302909035,0.21002000923503156,0.21017392642758195,0.21025088502385716,0.2106356780052332,0.21071263660150838,0.21348314606741572,0.21356010466369094,0.2166384485146991,0.2167923657072495,0.2168693243035247,0.2170232414960751,0.21887024780668002,0.21902416499923041,0.21933199938433123,0.21956287517315684,0.2204094197321841,0.22056333692473448,0.2206402955210097,0.22248730183161458,0.2227951362167154,0.22294905340926582,0.22325688779436664,0.22371863937201786,0.22387255656456825,0.22418039094966907,0.2243343081422195,0.2245651839310451,0.2267200246267508,0.22695090041557642,0.22710481760812684,0.22718177620440203,0.22756656918577806,0.22764352778205327,0.22795136216715406,0.22802832076342927,0.2281822379559797,0.2283361551485301,0.2285670309373557,0.2286439895336309,0.22902878251500694,0.22918269970755734,0.22925965830383255,0.22941357549638294,0.23110666461443743,0.23126058180698783,0.23133754040326304,0.23156841619208865,0.23179929198091426,0.23210712636601508,0.2321840849622903,0.23279975373249193,0.23295367092504232,0.23326150531014314,0.23356933969524396,0.23364629829151917,0.23395413267662,0.23564722179467446,0.2358780975835001,0.23595505617977527,0.2364937663537017,0.2365707249499769,0.23680160073880252,0.23703247652762813,0.23749422810527937,0.24026473757118672,0.24049561336001232,0.24072648914883793,0.24088040634138833,0.24103432353393875,0.24111128213021393,0.24126519932276436,0.24134215791903957,0.24157303370786518,0.24172695090041557,0.24180390949669078,0.24195782668924118,0.2421117438817916,0.2423426196706172,0.24288132984454364,0.24357395721102046,0.24472833615514852,0.24626750808065262,0.24672925965830383,0.24680621825457905,0.24696013544712944,0.24703709404340465,0.24719101123595505,0.24742188702478066,0.2478836386024319,0.2480375557949823,0.24842234877635833,0.24888410035400954,0.24896105895028475,0.2540403263044482,0.2542712020932738,0.25457903647837465,0.25480991226720023,0.2557334154225027,0.25696475296290594,0.2572725873480068,0.25742650454055716,0.2576573803293828,0.2598122210250885,0.2598891796213637,0.26050484839156535,0.26058180698784056,0.26081268277666614,0.26096659996921656,0.261120517161767,0.26127443435431735,0.26135139295059256,0.26258273049099584,0.26289056487609663,0.2634292750500231,0.2636601508388487,0.26396798522394954,0.26481452978297676,0.26489148837925197,0.26519932276435276,0.2657380329382792,0.2658149915345544,0.27235647221794673,0.27258734800677237,0.2727412651993228,0.2732799753732492,0.2734338925657996,0.27358780975835,0.27451131291365244,0.27458827150992765,0.2748961058950285,0.28443897183315375,0.2846698476219794,0.28482376481452976,0.2851315991996306,0.2852085577959058,0.2853624749884562,0.28582422656610745,0.28605510235493303,0.28620901954748346,0.28667077112513467,0.2871325227027859,0.2875942742804371,0.2876712328767123,0.289056487609666,0.2892873633984916,0.289441280591042,0.28951823918731723,0.28997999076496844,0.29013390795751887,0.2902108665537941,0.2906726181314453,0.2908265353239957,0.2910574111128213,0.2912113283053717,0.29190395567184857,0.2919809142681237,0.2940587963675543,0.29421271356010464,0.2949053409265815,0.29521317531168234,0.2952901339079575,0.2975988917962136,0.30383253809450517,0.3039864552870556,0.3042942896721564,0.3043712482684316,0.3048329998460828,0.304909958442358,0.30506387563490844,0.3051408342311836,0.3072956749268893,0.3077574265045406,0.30791134369709094,0.3123749422810528,0.312451900877328,0.3167615822687394,0.31699245805756504,0.3176081268277667,0.31776204402031705,0.3188394643681699,0.31907034015699554,0.3193781745420963,0.31953209173464675,0.31991688471602275,0.3202247191011236,0.32261043558565494,0.3226873941819301,0.32314914575958137,0.32376481452978295,0.32384177312605816,0.3240726489148838,0.3242265661074342,0.324534400492535,0.3500846544559027,0.3501616130521779,0.3724026473757119,0.3724796059719871,0.37263352316453746,0.3727104817608127,0.3744805294751424,0.3748653224565184,0.3751731568416192,0.37525011543789444,0.3754040326304448,0.3769432045559489,0.3770201631522241,0.3772510389410497,0.37732799753732493,0.378482376481453,0.3789441280591042,0.37909804525165464,0.3791750038479298,0.37994458981068185,0.3800985070032323,0.38040634138833307,0.3808680929659843,0.3810220101585347,0.38117592735108513,0.3814837617361859,0.38240726489148835,0.38248422348776356,0.3827150992765892,0.3827920578728644,0.3832538094505156,0.3839464368169925,0.38410035400954284,0.38417731260581806,0.3847929813760197,0.38548560874249654,0.38563952593504697,0.3857164845313221,0.3861782361089734,0.3864860704940742,0.3866399876866246,0.38756349084192704,0.38925657995998153,0.3895644143450823,0.38964137294135753,0.3899492073264584,0.3906418346929352,0.3907187932892104,0.3908727104817608,0.39156533784823766,0.3921040480221641,0.3922579652147145,0.3924888410035401,0.3925657995998153,0.39372017854394337,0.3937971371402186,0.3964137294135755,0.3972602739726027,0.39741419116515314,0.397722025550254,0.4021086655379406,0.4025704171155918,0.4041095890410959,0.4042635062336463,0.4044943820224719,0.40549484377404954,0.40557180237032475,0.406418346929352,0.40764968446975525,0.40772664306603046,0.4088040634138833,0.40949669078036016,0.4099584423580114,0.41588425427120207,0.4160381714637525,0.4161151300600277,0.417731260581807,0.4178851777743574,0.4182699707557334,0.41842388794828383,0.4186547637371094,0.4187317223333846,0.41888563952593505,0.41919347391103584,0.41927043250731105,0.4196552254886871,0.4198861012775127,0.4203478528551639,0.42050177004771433,0.446052024011082,0.44674465137755887,0.4468216099738341,0.45051562259504385,0.4506695397875943,0.4508234569801447,0.4537478836386024,0.4538248422348776,0.45397875942742805,0.45990457134061874,0.4601354471294444,0.4628289979990765,0.4629059565953517,0.4631368323841773,0.4632137909804525,0.4649838386947822,0.46559950746498385,0.46567646606125906,0.4674465137755887,0.4789133446205941,0.4789903032168693,0.47922117900569494,0.47929813760197015,0.47960597198707094,0.47975988917962137,0.4798368477758966,0.47999076496844695,0.4802985993535478,0.4806064337386486,0.4806833923349238,0.4808373095274742,0.484146529167308,0.4843004463598584,0.48491611513006005,0.48514699091888563,0.48530090811143606,0.48737879021086655,0.4879944589810682,0.48822533476989377,0.4883792519624442,0.4887640449438202,0.4889179621363706,0.48937971371402184,0.48945667231029705,0.4901492996767739,0.4903032168693243,0.49245805756503,0.49307372633523167,0.5076958596275204,0.508696321379098,0.5087732799753732,0.5136216715407111,0.5137755887332615,0.5141603817146375,0.5143912575034632,0.5145451746960136,0.514699091888564,0.5147760504848392,0.5161613052177928,0.5163921810066184,0.5187778974911498,0.5189318146837002,0.5197014006464522,0.5199322764352778,0.5203170694166538,0.5239341234415884,0.5480221640757272,0.5488687086347545,0.5501000461751577,0.5502539633677082,0.5503309219639834,0.5507157149453594,0.552100969678313,0.5522548868708634,0.5525627212559643,0.5529475142373403,0.5530244728336156,0.5537940587963676,0.5541788517777436,0.5544097275665691,0.5545636447591196,0.5551793135293213,0.5552562721255965,0.5557180237032476,0.5558719408957981,0.5611051254425119,0.5614129598276127,0.5615668770201632,0.5616438356164384,0.5623364629829152,0.5624134215791904,0.5627212559642912,0.5631060489456672,0.5631830075419424,0.5634908419270432,0.5635678005233185,0.5640295521009697,0.56418346929352,0.5643373864860705,0.5644913036786209,0.5645682622748961,0.5659535170078498,0.5661843927966754,0.5663383099892257,0.567569647529629,0.5678774819147299,0.5680313991072803,0.5681853162998307,0.5682622748961059,0.5687240264737571,0.5688009850700323,0.5711097429582884,0.5712636601508388,0.573572418039095,0.5736493766353702,0.5738032938279206,0.5741880868092966,0.5742650454055718,0.5756503001385255,0.5757272587348007,0.576189010312452,0.5763429275050023,0.5764968446975527,0.5781899338156072,0.5783438510081577,0.578882561182084,0.5789595197783592,0.5791903955671849,0.5808834846852393,0.581114360474065,0.5828844081883946,0.5832692011697707,0.5841927043250731,0.5842696629213483,0.5908111436047406,0.590965060797291,0.5979682930583347,0.5982761274434354,0.598507003232261,0.5994305063875635,0.5995844235801139,0.5996613821763891,0.5998152993689395,0.5998922579652147,0.6117438817915961,0.6121286747729722,0.6372941357549639,0.637755887332615,0.6379867631214406,0.6383715561028167,0.6384485146990919,0.6387563490841927,0.6389102662767431,0.6712328767123288,0.671309835308604,0.6714637525011544,0.6722333384639064,0.6723102970601816,0.6725411728490073,0.6726181314452825,0.672849007234108,0.6731568416192089,0.6743112205633369,0.6743881791596121,0.674696013544713,0.6750808065260889,0.6753886409111898,0.6755425581037402,0.675850392488841,0.6760812682776666,0.6770047714329691,0.6771586886255194,0.6773126058180698,0.6775434816068955,0.6779282745882715,0.678082191780822,0.6782361089733723,0.6859319686008927,0.6868554717561952,0.6879328921040481,0.6898568570109281,0.6900107742034786,0.6904725257811297,0.691319070340157,0.6916269047252578,0.6919347391103586,0.6930891180544867,0.6933969524395875,0.6935508696321379,0.6937817454209635,0.6938587040172387,0.6942434969986148,0.69432045559489,0.6985531783900262,0.6989379713714022,0.699245805756503,0.6993997229490534,0.699630598737879,0.6997845159304295,0.6998614745267047,0.7077112513467755,0.7081730029244266,0.7083269201169771,0.7084808373095275,0.7085577959058027,0.7087117130983531,0.7089425888871786,0.7112513467754348,0.7114052639679852,0.7117900569493613,0.7120209327381869,0.714714483607819,0.7148684008003694,0.7162536555333231,0.7163306141295983,0.7164845313221487,0.7165614899184238,0.7183315376327536,0.7201785439433585,0.7215637986763122,0.7221794674465137,0.7224103432353394,0.7314144989995383,0.7315684161920887,0.7317223333846391,0.7321840849622903,0.7322610435585655,0.7334923810989687,0.733569339695244,0.7338002154840696,0.7346467600430968,0.7348776358319224,0.7351085116207481,0.7358011389872249,0.7360320147760505,0.7361859319686009,0.7428043712482685,0.7436509158072957,0.7452670463290749,0.7454979221179006,0.7455748807141758,0.746421425273203,0.7468831768508543,0.7469601354471295,0.7472679698322302,0.7474218870247806,0.7478066800061567,0.7479605971987071,0.7602739726027398,0.761120517161767,0.7611974757580422,0.7613513929505926,0.7619670617207942,0.7621209789133446,0.7624288132984455,0.7625057718947207,0.7628136062798214,0.7628905648760966,0.7637371094351239,0.7638140680313991,0.7665076189010313,0.7667384946898569,0.7668924118824073,0.7678159150377097,0.7692011697706633,0.7697398799445898,0.769816838540865,0.7715099276589195,0.7715868862551947,0.7763583192242574,0.7774357395721102,0.7778974911497615,0.7786670771125135,0.7791288286901646,0.7792827458827151,0.7794366630752655,0.7795136216715407,0.7802062490380175,0.7818223795597968,0.7829767585039249,0.786055102354933,0.7862090195474835,0.7862859781437587,0.7871325227027859,0.7881329844543635,0.7883638602431892,0.7884408188394644,0.78867169462829,0.7887486532245652,0.7889795290133907,0.7891334462059412,0.8142989071879329,0.8146067415730337,0.8147606587655841,0.8195320917346468,0.819609050330922,0.820378636293674,0.8205325534862244,0.8216869324303525,0.8220717254117285,0.8221486840080037,0.8226873941819302,0.8228413113744806,0.8299984608280745,0.8303832538094505,0.8309219639833769,0.8343081422194859,0.8345390180083115,0.835462521163614,0.8356933969524396,0.8357703555487148,0.8360781899338156,0.8363090657226412,0.8366938587040172,0.8445436355240881,0.8446205941203633,0.8460058488533169,0.8461597660458673,0.8540865014622133,0.854317377251039,0.8544712944435894,0.8546252116361398,0.854702170232415,0.875865784208096,0.8760966599969217,0.8766353701708481,0.8770201631522241,0.8776358319224258,0.878482376481453,0.8790980452516546,0.8799445898106818,0.880021548406957,0.9036478374634447,0.9069570571032785,0.9073418500846545,0.90757272587348,0.9096506079729105,0.909804525165461,0.9099584423580114,0.9101123595505618,0.9106510697244882,0.9108049869170386,0.910958904109589,0.9131137448052947,0.9148068339233493,0.9161920886563029,0.9164229644451285,0.9164999230414037,0.9183469293520086,0.918500846544559,0.9192704325073111,0.9202708942588887,0.9211943974141912,0.9214252732030168,0.9218100661843928,0.921887024780668,0.9297368016007388,0.9376635370170848,0.9378174542096352,0.9384331229798368,0.938510081576112,0.9621363706325997,0.9625981222102509,0.9629059565953517,0.9630598737879021,0.9644451285208557,0.9645990457134062,0.9746036632291827,0.9749884562105587,0.9756810835770355,0.9759119593658612,0.9765276281360628,0.9821456056641527,0.9851469909188857,0.9873787902108666,0.9874557488071417,0.9877635831922426,0.9888410035400954,0.9889949207326458,0.991303678620902,0.999230414037248,0.9996921656148992,1.0],\"xaxis\":\"x\",\"y\":[0.0,0.0005720823798627002,0.002860411899313501,0.004004576659038902,0.013157894736842105,0.015446224256292907,0.016018306636155607,0.017162471395881007,0.017734553775743706,0.02002288329519451,0.03546910755148741,0.036613272311212815,0.057208237986270026,0.05835240274599542,0.05892448512585812,0.060068649885583525,0.06292906178489703,0.06464530892448513,0.07151029748283753,0.07265446224256293,0.07837528604118993,0.08009153318077804,0.08352402745995423,0.08581235697940504,0.08867276887871854,0.09038901601830664,0.09267734553775744,0.09897025171624714,0.10011441647597254,0.11212814645308924,0.11327231121281464,0.11556064073226545,0.11727688787185354,0.12929061784897025,0.13043478260869565,0.13157894736842105,0.13272311212814644,0.13329519450800914,0.13443935926773457,0.14988558352402745,0.15102974828375287,0.15160183066361557,0.15274599542334097,0.15446224256292906,0.15560640732265446,0.16304347826086957,0.16418764302059496,0.16475972540045766,0.16647597254004576,0.17334096109839817,0.17448512585812356,0.17505720823798626,0.17677345537757438,0.17791762013729978,0.18249427917620137,0.18363844393592677,0.18764302059496568,0.18878718535469108,0.19679633867276888,0.19794050343249428,0.20938215102974828,0.21109839816933637,0.2122425629290618,0.2208237986270023,0.2219679633867277,0.22540045766590389,0.22768878718535468,0.2288329519450801,0.2299771167048055,0.2397025171624714,0.2408466819221968,0.244279176201373,0.24542334096109839,0.2471395881006865,0.2482837528604119,0.2517162471395881,0.2528604118993135,0.2545766590389016,0.2562929061784897,0.2625858123569794,0.2643020594965675,0.2700228832951945,0.2723112128146453,0.2768878718535469,0.2791762013729977,0.29805491990846683,0.29919908466819223,0.31407322654462244,0.31407322654462244,0.31636155606407323,0.3169336384439359,0.3169336384439359,0.31864988558352403,0.31864988558352403,0.3197940503432494,0.3197940503432494,0.3220823798627002,0.3220823798627002,0.324370709382151,0.324370709382151,0.32723112128146453,0.32723112128146453,0.32894736842105265,0.32894736842105265,0.33581235697940504,0.33581235697940504,0.33695652173913043,0.33695652173913043,0.33752860411899316,0.33752860411899316,0.33810068649885583,0.33810068649885583,0.33867276887871856,0.33867276887871856,0.34324942791762014,0.34324942791762014,0.34610983981693366,0.34610983981693366,0.35583524027459956,0.35583524027459956,0.35755148741418763,0.35755148741418763,0.3598398169336384,0.36041189931350115,0.36155606407322655,0.36155606407322655,0.3621281464530893,0.3621281464530893,0.36784897025171626,0.36784897025171626,0.3684210526315789,0.37013729977116705,0.37013729977116705,0.37414187643020597,0.37585812356979403,0.37585812356979403,0.37700228832951943,0.3781464530892448,0.37986270022883295,0.37986270022883295,0.38272311212814647,0.38272311212814647,0.38501144164759726,0.38501144164759726,0.38615560640732266,0.38672768878718533,0.38844393592677345,0.38844393592677345,0.38958810068649885,0.38958810068649885,0.39073226544622425,0.39073226544622425,0.39416475972540044,0.39416475972540044,0.3975972540045767,0.3975972540045767,0.39816933638443935,0.39816933638443935,0.40045766590389015,0.40045766590389015,0.4010297482837529,0.4010297482837529,0.40217391304347827,0.40217391304347827,0.4073226544622426,0.4073226544622426,0.40789473684210525,0.4107551487414188,0.4107551487414188,0.41647597254004576,0.41762013729977115,0.41762013729977115,0.4181922196796339,0.4181922196796339,0.4204805491990847,0.4204805491990847,0.42391304347826086,0.42391304347826086,0.4244851258581236,0.4244851258581236,0.4267734553775744,0.4267734553775744,0.4302059496567506,0.4302059496567506,0.43478260869565216,0.43592677345537756,0.4416475972540046,0.4416475972540046,0.44221967963386727,0.44221967963386727,0.44336384439359267,0.44336384439359267,0.4439359267734554,0.4439359267734554,0.4450800915331808,0.4462242562929062,0.4473684210526316,0.44794050343249425,0.44794050343249425,0.448512585812357,0.448512585812357,0.45080091533180777,0.45080091533180777,0.4513729977116705,0.4525171624713959,0.4548054919908467,0.4548054919908467,0.4559496567505721,0.4559496567505721,0.4582379862700229,0.4582379862700229,0.4588100686498856,0.4588100686498856,0.4633867276887872,0.4633867276887872,0.46395881006864986,0.46395881006864986,0.4668192219679634,0.4668192219679634,0.4685354691075515,0.4685354691075515,0.4702517162471396,0.4702517162471396,0.47368421052631576,0.47368421052631576,0.4742562929061785,0.4754004576659039,0.4754004576659039,0.4765446224256293,0.4782608695652174,0.4782608695652174,0.48112128146453087,0.48112128146453087,0.4816933638443936,0.4816933638443936,0.48226544622425627,0.48226544622425627,0.482837528604119,0.482837528604119,0.4862700228832952,0.4862700228832952,0.4868421052631579,0.4874141876430206,0.4879862700228833,0.4879862700228833,0.4891304347826087,0.4891304347826087,0.4937070938215103,0.4937070938215103,0.4977116704805492,0.4982837528604119,0.4982837528604119,0.5005720823798627,0.5005720823798627,0.5011441647597255,0.5011441647597255,0.5028604118993135,0.5028604118993135,0.5074370709382151,0.5085812356979404,0.5085812356979404,0.5091533180778032,0.5091533180778032,0.5097254004576659,0.5097254004576659,0.5125858123569794,0.5125858123569794,0.5154462242562929,0.5154462242562929,0.5165903890160183,0.5183066361556065,0.5183066361556065,0.5188787185354691,0.5188787185354691,0.5200228832951945,0.5211670480549199,0.5217391304347826,0.5217391304347826,0.522883295194508,0.522883295194508,0.5240274599542334,0.5240274599542334,0.5251716247139588,0.5251716247139588,0.5257437070938215,0.5257437070938215,0.5263157894736842,0.5274599542334096,0.5280320366132724,0.5280320366132724,0.528604118993135,0.528604118993135,0.5291762013729977,0.5291762013729977,0.5297482837528604,0.5297482837528604,0.5308924485125858,0.5308924485125858,0.5314645308924485,0.5314645308924485,0.5366132723112128,0.5366132723112128,0.5371853546910755,0.5371853546910755,0.5377574370709383,0.5377574370709383,0.5383295194508009,0.5383295194508009,0.5389016018306636,0.5389016018306636,0.5394736842105263,0.5394736842105263,0.540045766590389,0.540045766590389,0.5406178489702517,0.5406178489702517,0.5411899313501144,0.5411899313501144,0.5417620137299771,0.5417620137299771,0.5451945080091534,0.5451945080091534,0.5463386727688787,0.5463386727688787,0.5480549199084668,0.5486270022883295,0.5491990846681922,0.5491990846681922,0.5509153318077803,0.5509153318077803,0.5520594965675057,0.5520594965675057,0.5526315789473685,0.5526315789473685,0.5537757437070938,0.5537757437070938,0.5543478260869565,0.5543478260869565,0.5560640732265446,0.5560640732265446,0.5566361556064073,0.5566361556064073,0.5572082379862701,0.5572082379862701,0.5577803203661327,0.5577803203661327,0.5583524027459954,0.5583524027459954,0.5589244851258581,0.5600686498855835,0.5612128146453089,0.5612128146453089,0.5617848970251716,0.5617848970251716,0.562929061784897,0.562929061784897,0.5635011441647597,0.5635011441647597,0.5646453089244852,0.5646453089244852,0.5652173913043478,0.5652173913043478,0.5657894736842105,0.5657894736842105,0.566933638443936,0.566933638443936,0.5675057208237986,0.5675057208237986,0.568649885583524,0.568649885583524,0.5709382151029748,0.5709382151029748,0.5715102974828375,0.5715102974828375,0.5720823798627003,0.5720823798627003,0.5726544622425629,0.5726544622425629,0.5732265446224256,0.5732265446224256,0.5737986270022883,0.5737986270022883,0.5743707093821511,0.5743707093821511,0.5749427917620137,0.5749427917620137,0.5755148741418764,0.5755148741418764,0.5760869565217391,0.5766590389016019,0.5766590389016019,0.5778032036613272,0.5778032036613272,0.5789473684210527,0.5789473684210527,0.5795194508009154,0.5795194508009154,0.580091533180778,0.580091533180778,0.5806636155606407,0.5806636155606407,0.5812356979405034,0.5812356979405034,0.5829519450800915,0.5829519450800915,0.5835240274599542,0.5835240274599542,0.5846681922196796,0.5846681922196796,0.5852402745995423,0.5852402745995423,0.5869565217391305,0.5869565217391305,0.5881006864988558,0.5881006864988558,0.5886727688787186,0.5886727688787186,0.5892448512585813,0.5892448512585813,0.5915331807780321,0.5915331807780321,0.5926773455377574,0.5926773455377574,0.5932494279176201,0.5932494279176201,0.5938215102974829,0.5938215102974829,0.5943935926773455,0.5943935926773455,0.5949656750572082,0.5949656750572082,0.5983981693363845,0.5983981693363845,0.5995423340961098,0.5995423340961098,0.6006864988558352,0.6006864988558352,0.6006864988558352,0.601258581235698,0.601258581235698,0.6018306636155606,0.6018306636155606,0.6024027459954233,0.6024027459954233,0.602974828375286,0.602974828375286,0.6058352402745996,0.6058352402745996,0.6064073226544623,0.6081235697940504,0.6086956521739131,0.6086956521739131,0.6092677345537757,0.6092677345537757,0.6098398169336384,0.6098398169336384,0.6109839816933639,0.6109839816933639,0.6121281464530892,0.6121281464530892,0.6138443935926774,0.6138443935926774,0.61441647597254,0.61441647597254,0.6149885583524027,0.6149885583524027,0.6155606407322655,0.6155606407322655,0.6178489702517163,0.6178489702517163,0.618421052631579,0.618421052631579,0.6189931350114416,0.6195652173913043,0.6195652173913043,0.620137299771167,0.620137299771167,0.6212814645308925,0.6212814645308925,0.6218535469107551,0.6218535469107551,0.6224256292906178,0.6224256292906178,0.6229977116704806,0.6229977116704806,0.6229977116704806,0.6229977116704806,0.6247139588100686,0.6247139588100686,0.6252860411899314,0.6252860411899314,0.6258581235697941,0.6258581235697941,0.6270022883295194,0.6270022883295194,0.6275743707093822,0.6275743707093822,0.6292906178489702,0.6292906178489702,0.629862700228833,0.6310068649885584,0.6310068649885584,0.631578947368421,0.631578947368421,0.6321510297482837,0.6321510297482837,0.6332951945080092,0.6332951945080092,0.6338672768878718,0.6338672768878718,0.6344393592677345,0.6344393592677345,0.6350114416475973,0.6350114416475973,0.6361556064073226,0.6361556064073226,0.6378718535469108,0.6378718535469108,0.6401601830663616,0.6401601830663616,0.6407322654462243,0.6407322654462243,0.6407322654462243,0.6407322654462243,0.6413043478260869,0.6413043478260869,0.6418764302059496,0.6418764302059496,0.6424485125858124,0.6424485125858124,0.6430205949656751,0.6430205949656751,0.6453089244851259,0.6453089244851259,0.6481693363844394,0.6481693363844394,0.648741418764302,0.648741418764302,0.6498855835240275,0.6498855835240275,0.6498855835240275,0.6504576659038902,0.6504576659038902,0.6510297482837528,0.6510297482837528,0.6516018306636155,0.6516018306636155,0.652745995423341,0.652745995423341,0.6538901601830663,0.6538901601830663,0.6544622425629291,0.6544622425629291,0.6550343249427918,0.6550343249427918,0.6556064073226545,0.6556064073226545,0.6561784897025171,0.6561784897025171,0.6573226544622426,0.6584668192219679,0.6584668192219679,0.6590389016018307,0.6590389016018307,0.6601830663615561,0.6607551487414187,0.6607551487414187,0.6607551487414187,0.6607551487414187,0.6613272311212814,0.6613272311212814,0.6618993135011442,0.6618993135011442,0.6624713958810069,0.6624713958810069,0.6630434782608695,0.6630434782608695,0.6636155606407322,0.6636155606407322,0.6647597254004577,0.6647597254004577,0.665903890160183,0.6664759725400458,0.6664759725400458,0.6676201372997712,0.6681922196796338,0.6681922196796338,0.6687643020594966,0.6687643020594966,0.669908466819222,0.669908466819222,0.6704805491990846,0.6704805491990846,0.6710526315789473,0.6710526315789473,0.6727688787185355,0.6727688787185355,0.6727688787185355,0.6733409610983981,0.6739130434782609,0.6739130434782609,0.6750572082379863,0.6750572082379863,0.6756292906178489,0.6756292906178489,0.6762013729977117,0.6773455377574371,0.6773455377574371,0.6784897025171625,0.6784897025171625,0.6790617848970252,0.6790617848970252,0.6796338672768879,0.6796338672768879,0.6802059496567505,0.6802059496567505,0.6802059496567505,0.6802059496567505,0.6807780320366132,0.683066361556064,0.6847826086956522,0.6847826086956522,0.6859267734553776,0.6859267734553776,0.6864988558352403,0.6864988558352403,0.687070938215103,0.687070938215103,0.687070938215103,0.687070938215103,0.6876430205949656,0.6876430205949656,0.6882151029748284,0.6882151029748284,0.6882151029748284,0.6882151029748284,0.6882151029748284,0.6887871853546911,0.6887871853546911,0.6893592677345538,0.6893592677345538,0.6899313501144165,0.6899313501144165,0.6899313501144165,0.6905034324942791,0.6910755148741419,0.6910755148741419,0.6910755148741419,0.6910755148741419,0.6916475972540046,0.6916475972540046,0.6927917620137299,0.6927917620137299,0.6933638443935927,0.6933638443935927,0.6933638443935927,0.6939359267734554,0.6939359267734554,0.6945080091533181,0.6945080091533181,0.6950800915331807,0.6950800915331807,0.6956521739130435,0.6967963386727689,0.6973684210526315,0.6973684210526315,0.7013729977116705,0.7013729977116705,0.7013729977116705,0.7036613272311213,0.7036613272311213,0.704233409610984,0.704233409610984,0.7053775743707094,0.7070938215102975,0.7082379862700229,0.7082379862700229,0.7088100686498856,0.709954233409611,0.709954233409611,0.7110983981693364,0.7110983981693364,0.7116704805491991,0.7116704805491991,0.7128146453089245,0.7128146453089245,0.7133867276887872,0.7133867276887872,0.7145308924485125,0.7145308924485125,0.7151029748283753,0.7151029748283753,0.715675057208238,0.715675057208238,0.7162471395881007,0.7162471395881007,0.7168192219679634,0.7168192219679634,0.717391304347826,0.717391304347826,0.7179633867276888,0.7179633867276888,0.7185354691075515,0.7219679633867276,0.7219679633867276,0.7219679633867276,0.7231121281464531,0.7231121281464531,0.7236842105263158,0.7236842105263158,0.7259725400457666,0.7259725400457666,0.7265446224256293,0.7265446224256293,0.727116704805492,0.727116704805492,0.7276887871853547,0.7294050343249427,0.7294050343249427,0.7305491990846682,0.7305491990846682,0.7311212814645309,0.7316933638443935,0.7316933638443935,0.7322654462242563,0.7322654462242563,0.7334096109839817,0.7334096109839817,0.7345537757437071,0.7345537757437071,0.7362700228832952,0.7362700228832952,0.7368421052631579,0.7368421052631579,0.7374141876430206,0.7374141876430206,0.7379862700228833,0.7402745995423341,0.7402745995423341,0.7408466819221968,0.7408466819221968,0.7414187643020596,0.7414187643020596,0.7419908466819222,0.7419908466819222,0.7425629290617849,0.7425629290617849,0.7431350114416476,0.7431350114416476,0.7437070938215103,0.7437070938215103,0.744279176201373,0.744279176201373,0.7448512585812357,0.7454233409610984,0.7477116704805492,0.7482837528604119,0.7482837528604119,0.7494279176201373,0.7494279176201373,0.7517162471395881,0.7517162471395881,0.7551487414187643,0.7551487414187643,0.755720823798627,0.755720823798627,0.7562929061784897,0.7562929061784897,0.7562929061784897,0.7574370709382151,0.7585812356979404,0.7591533180778032,0.7602974828375286,0.7602974828375286,0.7608695652173914,0.761441647597254,0.7620137299771167,0.7620137299771167,0.7631578947368421,0.7631578947368421,0.7637299771167048,0.7637299771167048,0.7643020594965675,0.7648741418764302,0.7648741418764302,0.7654462242562929,0.7660183066361556,0.7660183066361556,0.7665903890160183,0.767162471395881,0.767162471395881,0.7677345537757437,0.7683066361556065,0.7683066361556065,0.7694508009153318,0.7705949656750573,0.7717391304347826,0.7723112128146453,0.7723112128146453,0.772883295194508,0.772883295194508,0.7734553775743707,0.7734553775743707,0.7740274599542334,0.7740274599542334,0.7745995423340961,0.7745995423340961,0.7757437070938215,0.7774599542334096,0.7774599542334096,0.7780320366132724,0.7780320366132724,0.7814645308924485,0.7814645308924485,0.7820366132723112,0.7820366132723112,0.784324942791762,0.784324942791762,0.7848970251716247,0.7848970251716247,0.7848970251716247,0.7860411899313501,0.7871853546910755,0.7877574370709383,0.7877574370709383,0.7883295194508009,0.7883295194508009,0.7883295194508009,0.7883295194508009,0.7889016018306636,0.7889016018306636,0.7889016018306636,0.7889016018306636,0.7889016018306636,0.7889016018306636,0.790045766590389,0.790045766590389,0.7906178489702517,0.7906178489702517,0.7906178489702517,0.7911899313501144,0.7917620137299771,0.7917620137299771,0.7923340961098398,0.7923340961098398,0.7929061784897025,0.7929061784897025,0.7929061784897025,0.7940503432494279,0.7940503432494279,0.7951945080091534,0.7951945080091534,0.7963386727688787,0.7963386727688787,0.7969107551487414,0.7986270022883295,0.7986270022883295,0.7991990846681922,0.7991990846681922,0.799771167048055,0.799771167048055,0.8003432494279176,0.8020594965675057,0.8020594965675057,0.8037757437070938,0.8037757437070938,0.8049199084668193,0.8054919908466819,0.8054919908466819,0.8060640732265446,0.8060640732265446,0.8066361556064073,0.8066361556064073,0.8066361556064073,0.8066361556064073,0.8072082379862701,0.8072082379862701,0.8077803203661327,0.8077803203661327,0.8083524027459954,0.8083524027459954,0.8094965675057209,0.8094965675057209,0.8100686498855835,0.8100686498855835,0.8100686498855835,0.8112128146453089,0.8112128146453089,0.8117848970251716,0.8117848970251716,0.8123569794050344,0.812929061784897,0.8135011441647597,0.8135011441647597,0.8146453089244852,0.8157894736842105,0.8163615560640732,0.8163615560640732,0.816933638443936,0.8180778032036613,0.8180778032036613,0.818649885583524,0.818649885583524,0.818649885583524,0.8192219679633868,0.8192219679633868,0.8192219679633868,0.8197940503432495,0.8197940503432495,0.8215102974828375,0.8232265446224256,0.8232265446224256,0.8237986270022883,0.8237986270022883,0.8243707093821511,0.8243707093821511,0.8249427917620137,0.8249427917620137,0.8255148741418764,0.8255148741418764,0.8260869565217391,0.8260869565217391,0.8266590389016019,0.8266590389016019,0.8272311212814645,0.8272311212814645,0.8278032036613272,0.8278032036613272,0.8283752860411899,0.8283752860411899,0.8283752860411899,0.830091533180778,0.8306636155606407,0.8312356979405034,0.8312356979405034,0.8318077803203662,0.8318077803203662,0.8318077803203662,0.8318077803203662,0.8329519450800915,0.8329519450800915,0.834096109839817,0.8346681922196796,0.8352402745995423,0.8352402745995423,0.835812356979405,0.835812356979405,0.8363844393592678,0.8369565217391305,0.8369565217391305,0.8375286041189931,0.8375286041189931,0.8375286041189931,0.8375286041189931,0.8398169336384439,0.8398169336384439,0.8403890160183066,0.8403890160183066,0.8403890160183066,0.8409610983981693,0.8409610983981693,0.8415331807780321,0.8415331807780321,0.8415331807780321,0.8421052631578947,0.8421052631578947,0.8426773455377574,0.8426773455377574,0.8426773455377574,0.8432494279176201,0.8432494279176201,0.8432494279176201,0.8438215102974829,0.8438215102974829,0.8443935926773455,0.8455377574370709,0.8461098398169337,0.8466819221967964,0.8466819221967964,0.847254004576659,0.847254004576659,0.8483981693363845,0.8483981693363845,0.8501144164759725,0.851258581235698,0.8524027459954233,0.8524027459954233,0.8524027459954233,0.852974828375286,0.852974828375286,0.8535469107551488,0.8541189931350115,0.8541189931350115,0.8546910755148741,0.8546910755148741,0.8552631578947368,0.8552631578947368,0.8558352402745996,0.8558352402745996,0.8564073226544623,0.8564073226544623,0.8592677345537757,0.8592677345537757,0.8598398169336384,0.8615560640732265,0.8615560640732265,0.8621281464530892,0.8621281464530892,0.8638443935926774,0.8638443935926774,0.8649885583524027,0.8649885583524027,0.8655606407322655,0.8655606407322655,0.8655606407322655,0.8655606407322655,0.8661327231121282,0.8661327231121282,0.8661327231121282,0.8661327231121282,0.8661327231121282,0.8661327231121282,0.8667048054919908,0.8667048054919908,0.8672768878718535,0.868421052631579,0.868421052631579,0.868421052631579,0.8689931350114416,0.8689931350114416,0.8695652173913043,0.8695652173913043,0.870137299771167,0.870137299771167,0.8707093821510298,0.8718535469107551,0.8718535469107551,0.8735697940503433,0.8735697940503433,0.8741418764302059,0.8747139588100686,0.8752860411899314,0.8752860411899314,0.8758581235697941,0.8758581235697941,0.8758581235697941,0.8764302059496567,0.8770022883295194,0.8770022883295194,0.8775743707093822,0.8775743707093822,0.8775743707093822,0.8781464530892449,0.8781464530892449,0.8787185354691075,0.8787185354691075,0.8792906178489702,0.8792906178489702,0.8792906178489702,0.8792906178489702,0.8792906178489702,0.8792906178489702,0.8792906178489702,0.879862700228833,0.879862700228833,0.8810068649885584,0.881578947368421,0.881578947368421,0.8827231121281465,0.8827231121281465,0.8827231121281465,0.8832951945080092,0.8832951945080092,0.8838672768878718,0.8838672768878718,0.8850114416475973,0.88558352402746,0.88558352402746,0.8861556064073226,0.8861556064073226,0.8872997711670481,0.8872997711670481,0.8890160183066361,0.8890160183066361,0.8895881006864989,0.8895881006864989,0.8901601830663616,0.8901601830663616,0.8907322654462243,0.8907322654462243,0.8918764302059496,0.8918764302059496,0.8930205949656751,0.8930205949656751,0.8935926773455377,0.8941647597254004,0.8941647597254004,0.8947368421052632,0.8947368421052632,0.8958810068649885,0.8958810068649885,0.8964530892448512,0.8964530892448512,0.8975972540045767,0.8981693363844394,0.8981693363844394,0.8981693363844394,0.8981693363844394,0.8993135011441648,0.8993135011441648,0.8993135011441648,0.8998855835240275,0.8998855835240275,0.9004576659038902,0.9016018306636155,0.9016018306636155,0.9021739130434783,0.9021739130434783,0.902745995423341,0.902745995423341,0.902745995423341,0.9033180778032036,0.9044622425629291,0.9044622425629291,0.9044622425629291,0.9044622425629291,0.9061784897025171,0.9061784897025171,0.9067505720823799,0.9073226544622426,0.9073226544622426,0.9078947368421053,0.9078947368421053,0.9084668192219679,0.9084668192219679,0.9096109839816934,0.9096109839816934,0.9096109839816934,0.9101830663615561,0.9101830663615561,0.9124713958810069,0.9124713958810069,0.9130434782608695,0.9136155606407322,0.9136155606407322,0.9147597254004577,0.9147597254004577,0.9147597254004577,0.9147597254004577,0.9153318077803204,0.9153318077803204,0.9153318077803204,0.915903890160183,0.915903890160183,0.9164759725400458,0.9164759725400458,0.9170480549199085,0.9170480549199085,0.9181922196796338,0.9187643020594966,0.9187643020594966,0.9193363844393593,0.9193363844393593,0.9193363844393593,0.919908466819222,0.919908466819222,0.9204805491990846,0.9216247139588101,0.9221967963386728,0.9221967963386728,0.9227688787185355,0.9227688787185355,0.9250572082379863,0.9256292906178489,0.9256292906178489,0.9267734553775744,0.9267734553775744,0.9296338672768879,0.9302059496567505,0.9302059496567505,0.9307780320366132,0.931350114416476,0.931350114416476,0.9324942791762014,0.9324942791762014,0.9324942791762014,0.9324942791762014,0.933066361556064,0.933066361556064,0.9353546910755148,0.9353546910755148,0.9359267734553776,0.9359267734553776,0.9364988558352403,0.9364988558352403,0.9364988558352403,0.9382151029748284,0.9382151029748284,0.9382151029748284,0.9382151029748284,0.9382151029748284,0.9387871853546911,0.9387871853546911,0.9393592677345538,0.9393592677345538,0.9399313501144165,0.9399313501144165,0.9405034324942791,0.9405034324942791,0.9405034324942791,0.9405034324942791,0.9416475972540046,0.9416475972540046,0.9422196796338673,0.9422196796338673,0.9427917620137299,0.9427917620137299,0.9433638443935927,0.9433638443935927,0.9433638443935927,0.9439359267734554,0.9439359267734554,0.9439359267734554,0.9445080091533181,0.9456521739130435,0.9462242562929062,0.9462242562929062,0.9462242562929062,0.9462242562929062,0.9467963386727689,0.9467963386727689,0.9473684210526315,0.9479405034324943,0.9479405034324943,0.9479405034324943,0.9479405034324943,0.9479405034324943,0.9496567505720824,0.950228832951945,0.950228832951945,0.9519450800915332,0.9525171624713958,0.9525171624713958,0.9525171624713958,0.9525171624713958,0.9530892448512586,0.9530892448512586,0.954233409610984,0.954233409610984,0.9548054919908466,0.9548054919908466,0.9553775743707094,0.9559496567505721,0.9559496567505721,0.9570938215102975,0.9570938215102975,0.9576659038901602,0.9576659038901602,0.9582379862700229,0.9582379862700229,0.9588100686498856,0.9588100686498856,0.9593821510297483,0.9593821510297483,0.959954233409611,0.959954233409611,0.959954233409611,0.9605263157894737,0.9605263157894737,0.9610983981693364,0.9610983981693364,0.9616704805491991,0.9616704805491991,0.9628146453089245,0.9628146453089245,0.9628146453089245,0.9633867276887872,0.9633867276887872,0.9639588100686499,0.9639588100686499,0.9651029748283753,0.9662471395881007,0.9662471395881007,0.9668192219679634,0.9685354691075515,0.9685354691075515,0.9691075514874142,0.9691075514874142,0.9696796338672768,0.9696796338672768,0.9696796338672768,0.9702517162471396,0.9702517162471396,0.9702517162471396,0.9702517162471396,0.9702517162471396,0.9708237986270023,0.9708237986270023,0.971395881006865,0.971395881006865,0.971395881006865,0.9719679633867276,0.9719679633867276,0.9725400457665904,0.9725400457665904,0.9731121281464531,0.9731121281464531,0.9736842105263158,0.9736842105263158,0.9736842105263158,0.9736842105263158,0.9736842105263158,0.9736842105263158,0.9742562929061785,0.9742562929061785,0.9754004576659039,0.9754004576659039,0.9759725400457666,0.9759725400457666,0.9765446224256293,0.9765446224256293,0.9765446224256293,0.9765446224256293,0.9765446224256293,0.977116704805492,0.977116704805492,0.9782608695652174,0.9782608695652174,0.9782608695652174,0.9794050343249427,0.9794050343249427,0.9799771167048055,0.9799771167048055,0.9805491990846682,0.9805491990846682,0.9811212814645309,0.9811212814645309,0.9822654462242563,0.9822654462242563,0.9834096109839817,0.9834096109839817,0.9845537757437071,0.9845537757437071,0.9856979405034325,0.9868421052631579,0.9868421052631579,0.9874141876430206,0.9874141876430206,0.9879862700228833,0.9879862700228833,0.988558352402746,0.988558352402746,0.9891304347826086,0.9891304347826086,0.9902745995423341,0.9902745995423341,0.9902745995423341,0.9902745995423341,0.9908466819221968,0.9908466819221968,0.9919908466819222,0.9919908466819222,0.9925629290617849,0.9937070938215103,0.9937070938215103,0.9937070938215103,0.9937070938215103,0.9959954233409611,0.9959954233409611,0.9971395881006865,0.9971395881006865,0.9971395881006865,0.9971395881006865,0.9982837528604119,1.0,1.0,1.0,1.0,1.0,1.0,1.0,1.0,1.0,1.0,1.0,1.0,1.0,1.0,1.0,1.0,1.0,1.0,1.0,1.0,1.0,1.0,1.0,1.0,1.0,1.0,1.0,1.0,1.0,1.0,1.0,1.0,1.0,1.0,1.0,1.0,1.0,1.0,1.0,1.0,1.0,1.0,1.0,1.0,1.0,1.0,1.0,1.0,1.0,1.0,1.0,1.0,1.0,1.0,1.0,1.0,1.0,1.0,1.0,1.0,1.0,1.0,1.0,1.0,1.0,1.0,1.0,1.0,1.0,1.0,1.0,1.0,1.0,1.0,1.0,1.0,1.0,1.0,1.0,1.0,1.0,1.0,1.0,1.0,1.0,1.0,1.0,1.0,1.0,1.0,1.0,1.0,1.0,1.0,1.0,1.0,1.0,1.0,1.0,1.0,1.0,1.0,1.0,1.0,1.0,1.0,1.0,1.0,1.0,1.0,1.0,1.0,1.0,1.0,1.0,1.0,1.0,1.0,1.0,1.0,1.0,1.0,1.0,1.0,1.0,1.0,1.0,1.0,1.0,1.0,1.0,1.0,1.0,1.0,1.0,1.0,1.0,1.0,1.0,1.0,1.0,1.0,1.0,1.0,1.0,1.0,1.0,1.0,1.0,1.0,1.0,1.0,1.0,1.0,1.0,1.0,1.0,1.0,1.0,1.0,1.0,1.0,1.0,1.0,1.0,1.0,1.0,1.0,1.0,1.0,1.0,1.0,1.0,1.0,1.0,1.0,1.0,1.0,1.0,1.0,1.0,1.0,1.0,1.0,1.0,1.0,1.0,1.0,1.0,1.0,1.0,1.0,1.0,1.0,1.0,1.0,1.0,1.0,1.0,1.0,1.0,1.0,1.0,1.0,1.0,1.0,1.0,1.0,1.0,1.0,1.0,1.0,1.0,1.0,1.0,1.0,1.0,1.0,1.0,1.0,1.0,1.0,1.0,1.0,1.0,1.0,1.0,1.0,1.0,1.0,1.0,1.0,1.0,1.0,1.0,1.0,1.0,1.0,1.0,1.0,1.0,1.0,1.0,1.0,1.0,1.0,1.0,1.0,1.0,1.0,1.0,1.0,1.0,1.0,1.0,1.0,1.0,1.0,1.0,1.0,1.0,1.0,1.0,1.0,1.0,1.0,1.0,1.0,1.0,1.0,1.0,1.0,1.0,1.0,1.0,1.0,1.0,1.0,1.0,1.0,1.0,1.0,1.0,1.0,1.0,1.0,1.0,1.0,1.0,1.0,1.0,1.0,1.0,1.0,1.0,1.0,1.0,1.0,1.0,1.0,1.0,1.0,1.0,1.0,1.0,1.0,1.0,1.0,1.0,1.0,1.0,1.0,1.0,1.0,1.0,1.0,1.0,1.0,1.0,1.0,1.0,1.0,1.0,1.0,1.0,1.0,1.0,1.0,1.0,1.0,1.0,1.0,1.0,1.0,1.0,1.0,1.0,1.0,1.0,1.0,1.0,1.0,1.0,1.0,1.0,1.0,1.0,1.0,1.0,1.0,1.0,1.0,1.0,1.0,1.0,1.0,1.0,1.0,1.0,1.0,1.0,1.0,1.0,1.0,1.0,1.0,1.0,1.0,1.0,1.0,1.0,1.0,1.0,1.0,1.0,1.0,1.0,1.0,1.0,1.0,1.0,1.0,1.0,1.0,1.0,1.0,1.0,1.0,1.0,1.0,1.0,1.0,1.0,1.0,1.0,1.0,1.0,1.0,1.0,1.0,1.0,1.0,1.0,1.0,1.0,1.0,1.0,1.0,1.0,1.0,1.0,1.0,1.0,1.0,1.0,1.0,1.0,1.0,1.0,1.0,1.0,1.0,1.0,1.0,1.0,1.0,1.0,1.0,1.0,1.0,1.0,1.0,1.0,1.0,1.0,1.0,1.0,1.0,1.0,1.0,1.0,1.0,1.0,1.0,1.0,1.0,1.0,1.0,1.0,1.0,1.0,1.0,1.0,1.0,1.0,1.0,1.0,1.0,1.0,1.0,1.0,1.0,1.0,1.0,1.0,1.0,1.0,1.0,1.0,1.0,1.0,1.0,1.0,1.0,1.0,1.0,1.0,1.0,1.0,1.0,1.0,1.0,1.0,1.0,1.0,1.0,1.0,1.0,1.0,1.0,1.0,1.0,1.0,1.0,1.0,1.0,1.0,1.0,1.0,1.0,1.0,1.0,1.0,1.0,1.0,1.0,1.0,1.0,1.0,1.0,1.0,1.0,1.0,1.0,1.0,1.0,1.0,1.0,1.0,1.0,1.0,1.0,1.0,1.0,1.0,1.0,1.0,1.0,1.0,1.0,1.0,1.0,1.0,1.0,1.0,1.0,1.0,1.0,1.0,1.0,1.0,1.0,1.0,1.0,1.0,1.0,1.0,1.0,1.0,1.0,1.0,1.0,1.0,1.0,1.0,1.0,1.0,1.0,1.0,1.0,1.0,1.0,1.0,1.0,1.0,1.0,1.0,1.0,1.0,1.0,1.0,1.0,1.0,1.0,1.0,1.0,1.0,1.0,1.0,1.0,1.0,1.0,1.0,1.0,1.0,1.0,1.0,1.0,1.0,1.0,1.0,1.0,1.0,1.0,1.0,1.0,1.0,1.0,1.0,1.0,1.0,1.0,1.0,1.0,1.0,1.0,1.0,1.0,1.0,1.0,1.0,1.0,1.0,1.0,1.0,1.0,1.0,1.0,1.0,1.0,1.0,1.0,1.0,1.0,1.0,1.0,1.0,1.0,1.0,1.0,1.0,1.0,1.0,1.0,1.0,1.0,1.0,1.0,1.0,1.0,1.0,1.0,1.0,1.0,1.0,1.0,1.0,1.0,1.0,1.0,1.0,1.0,1.0,1.0,1.0,1.0,1.0,1.0,1.0,1.0,1.0,1.0,1.0,1.0,1.0,1.0,1.0,1.0,1.0,1.0,1.0,1.0,1.0,1.0,1.0,1.0,1.0,1.0,1.0,1.0,1.0,1.0,1.0,1.0,1.0,1.0,1.0,1.0,1.0,1.0,1.0,1.0,1.0,1.0,1.0,1.0,1.0,1.0,1.0,1.0,1.0,1.0,1.0,1.0,1.0,1.0,1.0,1.0,1.0,1.0,1.0,1.0,1.0,1.0,1.0,1.0,1.0,1.0,1.0,1.0,1.0,1.0,1.0,1.0,1.0,1.0,1.0,1.0,1.0,1.0,1.0,1.0,1.0,1.0,1.0,1.0,1.0,1.0,1.0,1.0,1.0,1.0,1.0,1.0,1.0,1.0,1.0,1.0,1.0,1.0,1.0,1.0,1.0,1.0,1.0,1.0,1.0,1.0,1.0,1.0,1.0,1.0,1.0,1.0,1.0,1.0,1.0,1.0,1.0,1.0,1.0,1.0,1.0,1.0,1.0,1.0,1.0,1.0,1.0,1.0,1.0,1.0,1.0,1.0,1.0,1.0,1.0,1.0,1.0,1.0,1.0,1.0,1.0,1.0,1.0,1.0,1.0,1.0,1.0,1.0,1.0,1.0,1.0,1.0,1.0,1.0,1.0,1.0,1.0,1.0,1.0,1.0,1.0,1.0,1.0,1.0,1.0,1.0],\"yaxis\":\"y\",\"type\":\"scattergl\"}],                        {\"template\":{\"data\":{\"bar\":[{\"error_x\":{\"color\":\"#2a3f5f\"},\"error_y\":{\"color\":\"#2a3f5f\"},\"marker\":{\"line\":{\"color\":\"#E5ECF6\",\"width\":0.5},\"pattern\":{\"fillmode\":\"overlay\",\"size\":10,\"solidity\":0.2}},\"type\":\"bar\"}],\"barpolar\":[{\"marker\":{\"line\":{\"color\":\"#E5ECF6\",\"width\":0.5},\"pattern\":{\"fillmode\":\"overlay\",\"size\":10,\"solidity\":0.2}},\"type\":\"barpolar\"}],\"carpet\":[{\"aaxis\":{\"endlinecolor\":\"#2a3f5f\",\"gridcolor\":\"white\",\"linecolor\":\"white\",\"minorgridcolor\":\"white\",\"startlinecolor\":\"#2a3f5f\"},\"baxis\":{\"endlinecolor\":\"#2a3f5f\",\"gridcolor\":\"white\",\"linecolor\":\"white\",\"minorgridcolor\":\"white\",\"startlinecolor\":\"#2a3f5f\"},\"type\":\"carpet\"}],\"choropleth\":[{\"colorbar\":{\"outlinewidth\":0,\"ticks\":\"\"},\"type\":\"choropleth\"}],\"contour\":[{\"colorbar\":{\"outlinewidth\":0,\"ticks\":\"\"},\"colorscale\":[[0.0,\"#0d0887\"],[0.1111111111111111,\"#46039f\"],[0.2222222222222222,\"#7201a8\"],[0.3333333333333333,\"#9c179e\"],[0.4444444444444444,\"#bd3786\"],[0.5555555555555556,\"#d8576b\"],[0.6666666666666666,\"#ed7953\"],[0.7777777777777778,\"#fb9f3a\"],[0.8888888888888888,\"#fdca26\"],[1.0,\"#f0f921\"]],\"type\":\"contour\"}],\"contourcarpet\":[{\"colorbar\":{\"outlinewidth\":0,\"ticks\":\"\"},\"type\":\"contourcarpet\"}],\"heatmap\":[{\"colorbar\":{\"outlinewidth\":0,\"ticks\":\"\"},\"colorscale\":[[0.0,\"#0d0887\"],[0.1111111111111111,\"#46039f\"],[0.2222222222222222,\"#7201a8\"],[0.3333333333333333,\"#9c179e\"],[0.4444444444444444,\"#bd3786\"],[0.5555555555555556,\"#d8576b\"],[0.6666666666666666,\"#ed7953\"],[0.7777777777777778,\"#fb9f3a\"],[0.8888888888888888,\"#fdca26\"],[1.0,\"#f0f921\"]],\"type\":\"heatmap\"}],\"heatmapgl\":[{\"colorbar\":{\"outlinewidth\":0,\"ticks\":\"\"},\"colorscale\":[[0.0,\"#0d0887\"],[0.1111111111111111,\"#46039f\"],[0.2222222222222222,\"#7201a8\"],[0.3333333333333333,\"#9c179e\"],[0.4444444444444444,\"#bd3786\"],[0.5555555555555556,\"#d8576b\"],[0.6666666666666666,\"#ed7953\"],[0.7777777777777778,\"#fb9f3a\"],[0.8888888888888888,\"#fdca26\"],[1.0,\"#f0f921\"]],\"type\":\"heatmapgl\"}],\"histogram\":[{\"marker\":{\"pattern\":{\"fillmode\":\"overlay\",\"size\":10,\"solidity\":0.2}},\"type\":\"histogram\"}],\"histogram2d\":[{\"colorbar\":{\"outlinewidth\":0,\"ticks\":\"\"},\"colorscale\":[[0.0,\"#0d0887\"],[0.1111111111111111,\"#46039f\"],[0.2222222222222222,\"#7201a8\"],[0.3333333333333333,\"#9c179e\"],[0.4444444444444444,\"#bd3786\"],[0.5555555555555556,\"#d8576b\"],[0.6666666666666666,\"#ed7953\"],[0.7777777777777778,\"#fb9f3a\"],[0.8888888888888888,\"#fdca26\"],[1.0,\"#f0f921\"]],\"type\":\"histogram2d\"}],\"histogram2dcontour\":[{\"colorbar\":{\"outlinewidth\":0,\"ticks\":\"\"},\"colorscale\":[[0.0,\"#0d0887\"],[0.1111111111111111,\"#46039f\"],[0.2222222222222222,\"#7201a8\"],[0.3333333333333333,\"#9c179e\"],[0.4444444444444444,\"#bd3786\"],[0.5555555555555556,\"#d8576b\"],[0.6666666666666666,\"#ed7953\"],[0.7777777777777778,\"#fb9f3a\"],[0.8888888888888888,\"#fdca26\"],[1.0,\"#f0f921\"]],\"type\":\"histogram2dcontour\"}],\"mesh3d\":[{\"colorbar\":{\"outlinewidth\":0,\"ticks\":\"\"},\"type\":\"mesh3d\"}],\"parcoords\":[{\"line\":{\"colorbar\":{\"outlinewidth\":0,\"ticks\":\"\"}},\"type\":\"parcoords\"}],\"pie\":[{\"automargin\":true,\"type\":\"pie\"}],\"scatter\":[{\"marker\":{\"colorbar\":{\"outlinewidth\":0,\"ticks\":\"\"}},\"type\":\"scatter\"}],\"scatter3d\":[{\"line\":{\"colorbar\":{\"outlinewidth\":0,\"ticks\":\"\"}},\"marker\":{\"colorbar\":{\"outlinewidth\":0,\"ticks\":\"\"}},\"type\":\"scatter3d\"}],\"scattercarpet\":[{\"marker\":{\"colorbar\":{\"outlinewidth\":0,\"ticks\":\"\"}},\"type\":\"scattercarpet\"}],\"scattergeo\":[{\"marker\":{\"colorbar\":{\"outlinewidth\":0,\"ticks\":\"\"}},\"type\":\"scattergeo\"}],\"scattergl\":[{\"marker\":{\"colorbar\":{\"outlinewidth\":0,\"ticks\":\"\"}},\"type\":\"scattergl\"}],\"scattermapbox\":[{\"marker\":{\"colorbar\":{\"outlinewidth\":0,\"ticks\":\"\"}},\"type\":\"scattermapbox\"}],\"scatterpolar\":[{\"marker\":{\"colorbar\":{\"outlinewidth\":0,\"ticks\":\"\"}},\"type\":\"scatterpolar\"}],\"scatterpolargl\":[{\"marker\":{\"colorbar\":{\"outlinewidth\":0,\"ticks\":\"\"}},\"type\":\"scatterpolargl\"}],\"scatterternary\":[{\"marker\":{\"colorbar\":{\"outlinewidth\":0,\"ticks\":\"\"}},\"type\":\"scatterternary\"}],\"surface\":[{\"colorbar\":{\"outlinewidth\":0,\"ticks\":\"\"},\"colorscale\":[[0.0,\"#0d0887\"],[0.1111111111111111,\"#46039f\"],[0.2222222222222222,\"#7201a8\"],[0.3333333333333333,\"#9c179e\"],[0.4444444444444444,\"#bd3786\"],[0.5555555555555556,\"#d8576b\"],[0.6666666666666666,\"#ed7953\"],[0.7777777777777778,\"#fb9f3a\"],[0.8888888888888888,\"#fdca26\"],[1.0,\"#f0f921\"]],\"type\":\"surface\"}],\"table\":[{\"cells\":{\"fill\":{\"color\":\"#EBF0F8\"},\"line\":{\"color\":\"white\"}},\"header\":{\"fill\":{\"color\":\"#C8D4E3\"},\"line\":{\"color\":\"white\"}},\"type\":\"table\"}]},\"layout\":{\"annotationdefaults\":{\"arrowcolor\":\"#2a3f5f\",\"arrowhead\":0,\"arrowwidth\":1},\"autotypenumbers\":\"strict\",\"coloraxis\":{\"colorbar\":{\"outlinewidth\":0,\"ticks\":\"\"}},\"colorscale\":{\"diverging\":[[0,\"#8e0152\"],[0.1,\"#c51b7d\"],[0.2,\"#de77ae\"],[0.3,\"#f1b6da\"],[0.4,\"#fde0ef\"],[0.5,\"#f7f7f7\"],[0.6,\"#e6f5d0\"],[0.7,\"#b8e186\"],[0.8,\"#7fbc41\"],[0.9,\"#4d9221\"],[1,\"#276419\"]],\"sequential\":[[0.0,\"#0d0887\"],[0.1111111111111111,\"#46039f\"],[0.2222222222222222,\"#7201a8\"],[0.3333333333333333,\"#9c179e\"],[0.4444444444444444,\"#bd3786\"],[0.5555555555555556,\"#d8576b\"],[0.6666666666666666,\"#ed7953\"],[0.7777777777777778,\"#fb9f3a\"],[0.8888888888888888,\"#fdca26\"],[1.0,\"#f0f921\"]],\"sequentialminus\":[[0.0,\"#0d0887\"],[0.1111111111111111,\"#46039f\"],[0.2222222222222222,\"#7201a8\"],[0.3333333333333333,\"#9c179e\"],[0.4444444444444444,\"#bd3786\"],[0.5555555555555556,\"#d8576b\"],[0.6666666666666666,\"#ed7953\"],[0.7777777777777778,\"#fb9f3a\"],[0.8888888888888888,\"#fdca26\"],[1.0,\"#f0f921\"]]},\"colorway\":[\"#636efa\",\"#EF553B\",\"#00cc96\",\"#ab63fa\",\"#FFA15A\",\"#19d3f3\",\"#FF6692\",\"#B6E880\",\"#FF97FF\",\"#FECB52\"],\"font\":{\"color\":\"#2a3f5f\"},\"geo\":{\"bgcolor\":\"white\",\"lakecolor\":\"white\",\"landcolor\":\"#E5ECF6\",\"showlakes\":true,\"showland\":true,\"subunitcolor\":\"white\"},\"hoverlabel\":{\"align\":\"left\"},\"hovermode\":\"closest\",\"mapbox\":{\"style\":\"light\"},\"paper_bgcolor\":\"white\",\"plot_bgcolor\":\"#E5ECF6\",\"polar\":{\"angularaxis\":{\"gridcolor\":\"white\",\"linecolor\":\"white\",\"ticks\":\"\"},\"bgcolor\":\"#E5ECF6\",\"radialaxis\":{\"gridcolor\":\"white\",\"linecolor\":\"white\",\"ticks\":\"\"}},\"scene\":{\"xaxis\":{\"backgroundcolor\":\"#E5ECF6\",\"gridcolor\":\"white\",\"gridwidth\":2,\"linecolor\":\"white\",\"showbackground\":true,\"ticks\":\"\",\"zerolinecolor\":\"white\"},\"yaxis\":{\"backgroundcolor\":\"#E5ECF6\",\"gridcolor\":\"white\",\"gridwidth\":2,\"linecolor\":\"white\",\"showbackground\":true,\"ticks\":\"\",\"zerolinecolor\":\"white\"},\"zaxis\":{\"backgroundcolor\":\"#E5ECF6\",\"gridcolor\":\"white\",\"gridwidth\":2,\"linecolor\":\"white\",\"showbackground\":true,\"ticks\":\"\",\"zerolinecolor\":\"white\"}},\"shapedefaults\":{\"line\":{\"color\":\"#2a3f5f\"}},\"ternary\":{\"aaxis\":{\"gridcolor\":\"white\",\"linecolor\":\"white\",\"ticks\":\"\"},\"baxis\":{\"gridcolor\":\"white\",\"linecolor\":\"white\",\"ticks\":\"\"},\"bgcolor\":\"#E5ECF6\",\"caxis\":{\"gridcolor\":\"white\",\"linecolor\":\"white\",\"ticks\":\"\"}},\"title\":{\"x\":0.05},\"xaxis\":{\"automargin\":true,\"gridcolor\":\"white\",\"linecolor\":\"white\",\"ticks\":\"\",\"title\":{\"standoff\":15},\"zerolinecolor\":\"white\",\"zerolinewidth\":2},\"yaxis\":{\"automargin\":true,\"gridcolor\":\"white\",\"linecolor\":\"white\",\"ticks\":\"\",\"title\":{\"standoff\":15},\"zerolinecolor\":\"white\",\"zerolinewidth\":2}}},\"xaxis\":{\"anchor\":\"y\",\"domain\":[0.0,1.0],\"title\":{\"text\":\"FPR\"}},\"yaxis\":{\"anchor\":\"x\",\"domain\":[0.0,1.0],\"title\":{\"text\":\"TPR\"}},\"legend\":{\"tracegroupgap\":0},\"title\":{\"text\":\"Fire/hotspot model performance for 2021\"}},                        {\"responsive\": true}                    ).then(function(){\n",
              "                            \n",
              "var gd = document.getElementById('ba44e500-ba00-40f0-a0c6-7a14896b0fb9');\n",
              "var x = new MutationObserver(function (mutations, observer) {{\n",
              "        var display = window.getComputedStyle(gd).display;\n",
              "        if (!display || display === 'none') {{\n",
              "            console.log([gd, 'removed!']);\n",
              "            Plotly.purge(gd);\n",
              "            observer.disconnect();\n",
              "        }}\n",
              "}});\n",
              "\n",
              "// Listen for the removal of the full notebook cells\n",
              "var notebookContainer = gd.closest('#notebook-container');\n",
              "if (notebookContainer) {{\n",
              "    x.observe(notebookContainer, {childList: true});\n",
              "}}\n",
              "\n",
              "// Listen for the clearing of the current output cell\n",
              "var outputEl = gd.closest('.output');\n",
              "if (outputEl) {{\n",
              "    x.observe(outputEl, {childList: true});\n",
              "}}\n",
              "\n",
              "                        })                };                            </script>        </div>\n",
              "</body>\n",
              "</html>"
            ]
          },
          "metadata": {}
        }
      ]
    },
    {
      "cell_type": "code",
      "source": [
        ""
      ],
      "metadata": {
        "id": "qUyTHp5gOp2y"
      },
      "execution_count": null,
      "outputs": []
    }
  ]
}