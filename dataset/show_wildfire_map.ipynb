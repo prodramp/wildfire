{
 "cells": [
  {
   "cell_type": "code",
   "execution_count": null,
   "metadata": {},
   "outputs": [],
   "source": [
    "!ls -la"
   ]
  },
  {
   "cell_type": "code",
   "execution_count": null,
   "metadata": {},
   "outputs": [],
   "source": [
    "!pip show mapboxgl"
   ]
  },
  {
   "cell_type": "code",
   "execution_count": null,
   "metadata": {},
   "outputs": [],
   "source": [
    "import pandas as pd"
   ]
  },
  {
   "cell_type": "code",
   "execution_count": null,
   "metadata": {},
   "outputs": [],
   "source": [
    "source = \"ca_daily_fire_2000_2021.csv\""
   ]
  },
  {
   "cell_type": "code",
   "execution_count": null,
   "metadata": {},
   "outputs": [],
   "source": [
    "df = pd.read_csv(source)"
   ]
  },
  {
   "cell_type": "code",
   "execution_count": null,
   "metadata": {},
   "outputs": [],
   "source": [
    "map_box_token = \"pk.eyJ1IjoicHJvZHJhbXAiLCJhIjoiY2wxNzZibGd0MDY1bjNjcmlnNmEzcmZjeSJ9.uIuRoNgbLkoXtvBd_E7Cvw\""
   ]
  },
  {
   "cell_type": "code",
   "execution_count": null,
   "metadata": {},
   "outputs": [],
   "source": [
    "from mapboxgl.utils import create_color_stops, df_to_geojson\n",
    "from mapboxgl.viz import CircleViz"
   ]
  },
  {
   "cell_type": "code",
   "execution_count": null,
   "metadata": {},
   "outputs": [],
   "source": [
    "df"
   ]
  },
  {
   "cell_type": "code",
   "execution_count": null,
   "metadata": {},
   "outputs": [],
   "source": [
    "# Create a geojson file export from a Pandas dataframe\n",
    "points = df_to_geojson(df,\n",
    "              properties=['acq_date', 'confidence', 'year', 'month'],\n",
    "              lat='latitude', lon='longitude', precision=3)\n"
   ]
  },
  {
   "cell_type": "code",
   "execution_count": null,
   "metadata": {},
   "outputs": [],
   "source": [
    "# Generate data breaks and color stops from colorBrewer\n",
    "color_breaks = [0,10,100,1000,10000]\n",
    "color_stops = create_color_stops(color_breaks, colors='YlOrRd')"
   ]
  },
  {
   "cell_type": "code",
   "execution_count": null,
   "metadata": {},
   "outputs": [],
   "source": [
    "# Create the viz from the dataframe\n",
    "viz = CircleViz(points,\n",
    "                access_token=map_box_token,\n",
    "                height='800px',\n",
    "                color_property = \"confidence\",\n",
    "                color_stops = color_stops,\n",
    "                center = (-95, 40),\n",
    "                zoom = 3,\n",
    "                below_layer = 'waterway-label'\n",
    "              )"
   ]
  },
  {
   "cell_type": "code",
   "execution_count": null,
   "metadata": {},
   "outputs": [],
   "source": [
    "viz.show()"
   ]
  },
  {
   "cell_type": "code",
   "execution_count": null,
   "metadata": {},
   "outputs": [],
   "source": []
  }
 ],
 "metadata": {
  "kernelspec": {
   "display_name": "Python 3",
   "language": "python",
   "name": "python3"
  },
  "language_info": {
   "codemirror_mode": {
    "name": "ipython",
    "version": 3
   },
   "file_extension": ".py",
   "mimetype": "text/x-python",
   "name": "python",
   "nbconvert_exporter": "python",
   "pygments_lexer": "ipython3",
   "version": "3.7.6"
  }
 },
 "nbformat": 4,
 "nbformat_minor": 4
}
